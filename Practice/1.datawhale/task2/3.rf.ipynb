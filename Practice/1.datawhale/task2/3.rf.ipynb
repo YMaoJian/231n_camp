{
 "cells": [
  {
   "cell_type": "code",
   "execution_count": 1,
   "metadata": {},
   "outputs": [],
   "source": [
    "from sklearn.model_selection import train_test_split\n",
    "from sklearn.externals import joblib\n",
    "from sklearn.ensemble import RandomForestClassifier, GradientBoostingClassifier\n",
    "from sklearn.model_selection import GridSearchCV\n",
    "import lightgbm as lgb\n",
    "import xgboost\n",
    "import pandas as pd\n",
    "import time"
   ]
  },
  {
   "cell_type": "markdown",
   "metadata": {},
   "source": [
    "# 随机森林\n",
    "### 以下过程类似对全部的参数使用GridSearchCV。通过找出每一个参数的最优值，重新代入，寻找其中的关系。这里把这些分开主要用于分析。（时间与能力有限，后续增改）\n",
    "[参数说明链接](http://www.cnblogs.com/gczr/p/7141712.html)"
   ]
  },
  {
   "cell_type": "code",
   "execution_count": 2,
   "metadata": {},
   "outputs": [
    {
     "name": "stdout",
     "output_type": "stream",
     "text": [
      "(4754, 85)\n",
      "(3327, 84) (3327,) (1427, 84) (1427,)\n"
     ]
    }
   ],
   "source": [
    "data = pd.read_csv('data_all.csv')\n",
    "y_data = pd.DataFrame(data['status']).values.ravel()\n",
    "x_data = data.drop(columns='status').values\n",
    "\n",
    "x_train, x_test, y_train, y_test = train_test_split(x_data, y_data, test_size=0.3, random_state=2018)\n",
    "print(data.shape)\n",
    "print(x_train.shape, y_train.shape, x_test.shape, y_test.shape)"
   ]
  },
  {
   "cell_type": "markdown",
   "metadata": {},
   "source": [
    "## 1、n_estimators(建立子树的数量) 对数据的影响"
   ]
  },
  {
   "cell_type": "code",
   "execution_count": 5,
   "metadata": {
    "scrolled": true
   },
   "outputs": [
    {
     "data": {
      "text/plain": [
       "GridSearchCV(cv=10, error_score='raise',\n",
       "       estimator=RandomForestClassifier(bootstrap=True, class_weight='balanced',\n",
       "            criterion='gini', max_depth=None, max_features='auto',\n",
       "            max_leaf_nodes=None, min_impurity_decrease=0.0,\n",
       "            min_impurity_split=None, min_samples_leaf=1,\n",
       "            min_samples_split=2, min_weight_fraction_leaf=0.0,\n",
       "            n_estimators=10, n_jobs=1, oob_score=False, random_state=2018,\n",
       "            verbose=0, warm_start=False),\n",
       "       fit_params=None, iid=True, n_jobs=1,\n",
       "       param_grid={'n_estimators': range(10, 250, 10)},\n",
       "       pre_dispatch='2*n_jobs', refit=True, return_train_score='warn',\n",
       "       scoring=None, verbose=0)"
      ]
     },
     "execution_count": 5,
     "metadata": {},
     "output_type": "execute_result"
    }
   ],
   "source": [
    "t_start = time.time()\n",
    "\n",
    "rf_estimator_param = {'n_estimators':range(10,250,10)}\n",
    "\n",
    "rf = RandomForestClassifier(class_weight='balanced', random_state=2018)\n",
    "rf_estimator_gridcv = GridSearchCV(cv=10, estimator=rf, param_grid=rf_estimator_param)\n",
    "rf_estimator_gridcv.fit(X=x_train, y=y_train)"
   ]
  },
  {
   "cell_type": "code",
   "execution_count": 6,
   "metadata": {},
   "outputs": [
    {
     "name": "stdout",
     "output_type": "stream",
     "text": [
      "RandomForestClassifier(bootstrap=True, class_weight='balanced',\n",
      "            criterion='gini', max_depth=None, max_features='auto',\n",
      "            max_leaf_nodes=None, min_impurity_decrease=0.0,\n",
      "            min_impurity_split=None, min_samples_leaf=1,\n",
      "            min_samples_split=2, min_weight_fraction_leaf=0.0,\n",
      "            n_estimators=190, n_jobs=1, oob_score=False, random_state=2018,\n",
      "            verbose=0, warm_start=False)\n",
      "0.789600240456868\n",
      "{'mean_fit_time': array([0.34241958, 0.71184063, 1.01035788, 1.42328141, 1.67539585,\n",
      "       2.02741592, 2.3478344 , 2.74510696, 3.07054999, 3.2928884 ,\n",
      "       3.62520738, 4.03963101, 4.35964947, 4.65896661, 5.00438619,\n",
      "       5.29290271, 5.62661781, 6.05404634, 6.30736084, 6.71918433,\n",
      "       6.87479317, 7.23431382, 7.78207648, 8.10686364]), 'std_fit_time': array([0.01550061, 0.07510669, 0.04193337, 0.07363952, 0.05132945,\n",
      "       0.08585945, 0.05618875, 0.12854428, 0.17207562, 0.10007081,\n",
      "       0.02830702, 0.11452399, 0.10597978, 0.09698498, 0.08661958,\n",
      "       0.10428841, 0.13916637, 0.24671155, 0.081373  , 0.17543574,\n",
      "       0.05931312, 0.17148721, 0.15274012, 0.21412915]), 'mean_score_time': array([0.00590038, 0.0101007 , 0.01480083, 0.01880107, 0.02110116,\n",
      "       0.02530146, 0.02900159, 0.03590159, 0.03658183, 0.04180231,\n",
      "       0.04440253, 0.05340314, 0.0511029 , 0.05530305, 0.06030345,\n",
      "       0.06320364, 0.06608307, 0.07060401, 0.07540424, 0.08650498,\n",
      "       0.08140457, 0.0860049 , 0.09102459, 0.0962055 ]), 'std_score_time': array([0.00053841, 0.00069998, 0.00342944, 0.00409414, 0.00029995,\n",
      "       0.00110004, 0.00173213, 0.01315519, 0.00444173, 0.00612896,\n",
      "       0.00162487, 0.01327624, 0.00070003, 0.00161563, 0.00126887,\n",
      "       0.00132684, 0.00389781, 0.0014967 , 0.00297338, 0.01858732,\n",
      "       0.00111363, 0.00099995, 0.00314099, 0.01067577]), 'param_n_estimators': masked_array(data=[10, 20, 30, 40, 50, 60, 70, 80, 90, 100, 110, 120, 130,\n",
      "                   140, 150, 160, 170, 180, 190, 200, 210, 220, 230, 240],\n",
      "             mask=[False, False, False, False, False, False, False, False,\n",
      "                   False, False, False, False, False, False, False, False,\n",
      "                   False, False, False, False, False, False, False, False],\n",
      "       fill_value='?',\n",
      "            dtype=object), 'params': [{'n_estimators': 10}, {'n_estimators': 20}, {'n_estimators': 30}, {'n_estimators': 40}, {'n_estimators': 50}, {'n_estimators': 60}, {'n_estimators': 70}, {'n_estimators': 80}, {'n_estimators': 90}, {'n_estimators': 100}, {'n_estimators': 110}, {'n_estimators': 120}, {'n_estimators': 130}, {'n_estimators': 140}, {'n_estimators': 150}, {'n_estimators': 160}, {'n_estimators': 170}, {'n_estimators': 180}, {'n_estimators': 190}, {'n_estimators': 200}, {'n_estimators': 210}, {'n_estimators': 220}, {'n_estimators': 230}, {'n_estimators': 240}], 'split0_test_score': array([0.77245509, 0.78443114, 0.79341317, 0.79640719, 0.78742515,\n",
      "       0.79640719, 0.79640719, 0.79341317, 0.79041916, 0.78742515,\n",
      "       0.78742515, 0.78443114, 0.79041916, 0.78742515, 0.79640719,\n",
      "       0.79341317, 0.79041916, 0.79341317, 0.79341317, 0.79341317,\n",
      "       0.80239521, 0.80239521, 0.80239521, 0.80239521]), 'split1_test_score': array([0.76047904, 0.77844311, 0.79041916, 0.78443114, 0.78143713,\n",
      "       0.78443114, 0.78143713, 0.7754491 , 0.77844311, 0.78143713,\n",
      "       0.78143713, 0.78143713, 0.78443114, 0.78443114, 0.78143713,\n",
      "       0.78143713, 0.78443114, 0.78443114, 0.78443114, 0.77844311,\n",
      "       0.7754491 , 0.77844311, 0.78143713, 0.78143713]), 'split2_test_score': array([0.78143713, 0.7994012 , 0.7994012 , 0.78443114, 0.78742515,\n",
      "       0.7754491 , 0.78443114, 0.79041916, 0.79041916, 0.79640719,\n",
      "       0.80239521, 0.7994012 , 0.79640719, 0.7994012 , 0.80239521,\n",
      "       0.80239521, 0.7994012 , 0.7994012 , 0.80838323, 0.7994012 ,\n",
      "       0.80239521, 0.80239521, 0.80538922, 0.80538922]), 'split3_test_score': array([0.78378378, 0.77777778, 0.77177177, 0.77177177, 0.77177177,\n",
      "       0.77777778, 0.77177177, 0.78378378, 0.78378378, 0.77777778,\n",
      "       0.77777778, 0.77777778, 0.78078078, 0.77777778, 0.77177177,\n",
      "       0.77477477, 0.77777778, 0.77177177, 0.77477477, 0.78078078,\n",
      "       0.77777778, 0.77777778, 0.77777778, 0.77777778]), 'split4_test_score': array([0.79518072, 0.78012048, 0.79518072, 0.80120482, 0.80722892,\n",
      "       0.79819277, 0.79216867, 0.79216867, 0.79216867, 0.79216867,\n",
      "       0.78313253, 0.78614458, 0.78915663, 0.79819277, 0.80120482,\n",
      "       0.79819277, 0.79518072, 0.79518072, 0.79819277, 0.79216867,\n",
      "       0.79518072, 0.79216867, 0.79518072, 0.79518072]), 'split5_test_score': array([0.76204819, 0.78313253, 0.78915663, 0.78915663, 0.79819277,\n",
      "       0.79819277, 0.78915663, 0.79216867, 0.79819277, 0.78915663,\n",
      "       0.78614458, 0.78614458, 0.79216867, 0.78915663, 0.78614458,\n",
      "       0.78614458, 0.78012048, 0.78012048, 0.78313253, 0.78313253,\n",
      "       0.78313253, 0.78614458, 0.78614458, 0.78614458]), 'split6_test_score': array([0.76506024, 0.75903614, 0.76204819, 0.76506024, 0.76506024,\n",
      "       0.77710843, 0.77108434, 0.77409639, 0.76807229, 0.76506024,\n",
      "       0.76506024, 0.76807229, 0.76807229, 0.76807229, 0.76506024,\n",
      "       0.76807229, 0.77108434, 0.78012048, 0.78012048, 0.78012048,\n",
      "       0.78012048, 0.78012048, 0.78012048, 0.78012048]), 'split7_test_score': array([0.76807229, 0.76807229, 0.77710843, 0.77409639, 0.77409639,\n",
      "       0.77710843, 0.78012048, 0.77710843, 0.78313253, 0.78614458,\n",
      "       0.78614458, 0.78915663, 0.79216867, 0.78614458, 0.78915663,\n",
      "       0.78915663, 0.78614458, 0.78614458, 0.78614458, 0.78614458,\n",
      "       0.78614458, 0.78313253, 0.78614458, 0.78614458]), 'split8_test_score': array([0.78012048, 0.80120482, 0.80421687, 0.80120482, 0.80120482,\n",
      "       0.80120482, 0.80421687, 0.80722892, 0.80722892, 0.80722892,\n",
      "       0.80722892, 0.80421687, 0.80722892, 0.81024096, 0.80722892,\n",
      "       0.81024096, 0.80722892, 0.80421687, 0.80421687, 0.80120482,\n",
      "       0.80120482, 0.80421687, 0.80421687, 0.80421687]), 'split9_test_score': array([0.77409639, 0.77108434, 0.76807229, 0.77108434, 0.77108434,\n",
      "       0.78313253, 0.78012048, 0.78012048, 0.78012048, 0.78012048,\n",
      "       0.78313253, 0.78614458, 0.78313253, 0.78614458, 0.78614458,\n",
      "       0.78614458, 0.78614458, 0.78614458, 0.78313253, 0.78313253,\n",
      "       0.78012048, 0.78012048, 0.77710843, 0.77710843]), 'mean_test_score': array([0.77427112, 0.78028254, 0.78509167, 0.78388939, 0.78449053,\n",
      "       0.7868951 , 0.78509167, 0.78659453, 0.78719567, 0.78629396,\n",
      "       0.78599339, 0.78629396, 0.78839796, 0.78869853, 0.78869853,\n",
      "       0.7889991 , 0.78779681, 0.78809739, 0.78960024, 0.78779681,\n",
      "       0.78839796, 0.78869853, 0.78960024, 0.78960024]), 'std_test_score': array([0.01038729, 0.01233906, 0.01358953, 0.012426  , 0.01354454,\n",
      "       0.00987931, 0.00998275, 0.00984055, 0.01042415, 0.01080822,\n",
      "       0.01124358, 0.00965586, 0.009824  , 0.0111584 , 0.01287341,\n",
      "       0.01203141, 0.01013965, 0.00938545, 0.01042854, 0.00779341,\n",
      "       0.01026476, 0.01018935, 0.01065321, 0.01065321]), 'rank_test_score': array([24, 23, 19, 22, 21, 14, 19, 15, 13, 16, 18, 16,  8,  5,  5,  4, 11,\n",
      "       10,  1, 11,  8,  5,  1,  1]), 'split0_train_score': array([0.98329435, 0.99665887, 0.99866355, 0.99966589, 0.99966589,\n",
      "       0.99966589, 1.        , 1.        , 1.        , 1.        ,\n",
      "       1.        , 1.        , 1.        , 1.        , 1.        ,\n",
      "       1.        , 1.        , 1.        , 1.        , 1.        ,\n",
      "       1.        , 1.        , 1.        , 1.        ]), 'split1_train_score': array([0.98329435, 0.99632476, 0.99933177, 0.99966589, 1.        ,\n",
      "       1.        , 1.        , 1.        , 1.        , 1.        ,\n",
      "       1.        , 1.        , 1.        , 1.        , 1.        ,\n",
      "       1.        , 1.        , 1.        , 1.        , 1.        ,\n",
      "       1.        , 1.        , 1.        , 1.        ]), 'split2_train_score': array([0.9819579 , 0.9973271 , 0.99799532, 0.99966589, 1.        ,\n",
      "       0.99966589, 1.        , 1.        , 1.        , 1.        ,\n",
      "       1.        , 1.        , 1.        , 1.        , 1.        ,\n",
      "       1.        , 1.        , 1.        , 1.        , 1.        ,\n",
      "       1.        , 1.        , 1.        , 1.        ]), 'split3_train_score': array([0.98029392, 0.99432198, 0.998998  , 0.998998  , 0.999666  ,\n",
      "       0.999666  , 0.999666  , 1.        , 1.        , 1.        ,\n",
      "       1.        , 1.        , 1.        , 1.        , 1.        ,\n",
      "       1.        , 1.        , 1.        , 1.        , 1.        ,\n",
      "       1.        , 1.        , 1.        , 1.        ]), 'split4_train_score': array([0.97896494, 0.99499165, 0.99799666, 0.99899833, 0.99966611,\n",
      "       1.        , 1.        , 1.        , 1.        , 1.        ,\n",
      "       1.        , 1.        , 1.        , 1.        , 1.        ,\n",
      "       1.        , 1.        , 1.        , 1.        , 1.        ,\n",
      "       1.        , 1.        , 1.        , 1.        ]), 'split5_train_score': array([0.98130217, 0.99565943, 0.99766277, 0.99933222, 1.        ,\n",
      "       1.        , 1.        , 1.        , 1.        , 1.        ,\n",
      "       1.        , 1.        , 1.        , 1.        , 1.        ,\n",
      "       1.        , 1.        , 1.        , 1.        , 1.        ,\n",
      "       1.        , 1.        , 1.        , 1.        ]), 'split6_train_score': array([0.97562604, 0.99465776, 0.99699499, 0.99833055, 0.99966611,\n",
      "       1.        , 1.        , 1.        , 1.        , 1.        ,\n",
      "       1.        , 1.        , 1.        , 1.        , 1.        ,\n",
      "       1.        , 1.        , 1.        , 1.        , 1.        ,\n",
      "       1.        , 1.        , 1.        , 1.        ]), 'split7_train_score': array([0.9769616 , 0.99265442, 0.99732888, 0.99866444, 0.99966611,\n",
      "       1.        , 1.        , 1.        , 1.        , 1.        ,\n",
      "       1.        , 1.        , 1.        , 1.        , 1.        ,\n",
      "       1.        , 1.        , 1.        , 1.        , 1.        ,\n",
      "       1.        , 1.        , 1.        , 1.        ]), 'split8_train_score': array([0.98230384, 0.99432387, 0.99766277, 0.99933222, 0.99933222,\n",
      "       0.99966611, 0.99966611, 1.        , 0.99966611, 1.        ,\n",
      "       1.        , 1.        , 1.        , 1.        , 1.        ,\n",
      "       1.        , 1.        , 1.        , 1.        , 1.        ,\n",
      "       1.        , 1.        , 1.        , 1.        ]), 'split9_train_score': array([0.98430718, 0.99499165, 0.99799666, 0.99899833, 0.99933222,\n",
      "       1.        , 1.        , 1.        , 0.99966611, 1.        ,\n",
      "       1.        , 1.        , 1.        , 1.        , 1.        ,\n",
      "       1.        , 1.        , 1.        , 1.        , 1.        ,\n",
      "       1.        , 1.        , 1.        , 1.        ]), 'mean_train_score': array([0.98083063, 0.99519115, 0.99806314, 0.99916518, 0.99969947,\n",
      "       0.99986639, 0.99993321, 1.        , 0.99993322, 1.        ,\n",
      "       1.        , 1.        , 1.        , 1.        , 1.        ,\n",
      "       1.        , 1.        , 1.        , 1.        , 1.        ,\n",
      "       1.        , 1.        , 1.        , 1.        ]), 'std_train_score': array([0.00271506, 0.00128559, 0.00069699, 0.00042882, 0.00023373,\n",
      "       0.00016364, 0.00013358, 0.        , 0.00013356, 0.        ,\n",
      "       0.        , 0.        , 0.        , 0.        , 0.        ,\n",
      "       0.        , 0.        , 0.        , 0.        , 0.        ,\n",
      "       0.        , 0.        , 0.        , 0.        ])}\n"
     ]
    }
   ],
   "source": [
    "print(rf_estimator_gridcv.best_estimator_)\n",
    "print(rf_estimator_gridcv.best_score_)\n",
    "print(rf_estimator_gridcv.cv_results_)"
   ]
  },
  {
   "cell_type": "code",
   "execution_count": 7,
   "metadata": {},
   "outputs": [
    {
     "name": "stdout",
     "output_type": "stream",
     "text": [
      "0.775052557813595\n"
     ]
    }
   ],
   "source": [
    "score = rf_estimator_gridcv.score(x_test, y_test)\n",
    "print(score)"
   ]
  },
  {
   "cell_type": "code",
   "execution_count": 9,
   "metadata": {},
   "outputs": [
    {
     "name": "stdout",
     "output_type": "stream",
     "text": [
      "rf_estimator_gridcv训练结束,耗时:17.91760152578354min\n"
     ]
    }
   ],
   "source": [
    "joblib.dump(rf_estimator_gridcv, 'rf_estimator_gridcv.m')\n",
    "\n",
    "t_end = time.time()\n",
    "print('rf_estimator_gridcv训练结束,耗时:{}min'.format((t_end - t_start) / 60))"
   ]
  },
  {
   "cell_type": "markdown",
   "metadata": {},
   "source": [
    "## 结论"
   ]
  },
  {
   "cell_type": "markdown",
   "metadata": {},
   "source": [
    "### n_estimators在cv=0取值150时，精确度达到极大值，后面开始下降。可认为是整个的最佳范围。在=210以及后面渠道0.8，猜测可能是过拟合（根据最后结果）。"
   ]
  },
  {
   "cell_type": "markdown",
   "metadata": {},
   "source": [
    "## 2、max_features 对数据的影响(这里以float为例，可以表示出max_features的大小对数据量的影响)"
   ]
  },
  {
   "cell_type": "code",
   "execution_count": 16,
   "metadata": {},
   "outputs": [
    {
     "data": {
      "text/plain": [
       "GridSearchCV(cv=10, error_score='raise',\n",
       "       estimator=RandomForestClassifier(bootstrap=True, class_weight='balanced',\n",
       "            criterion='gini', max_depth=None, max_features='auto',\n",
       "            max_leaf_nodes=None, min_impurity_decrease=0.0,\n",
       "            min_impurity_split=None, min_samples_leaf=1,\n",
       "            min_samples_split=2, min_weight_fraction_leaf=0.0,\n",
       "            n_estimators=190, n_jobs=1, oob_score=False, random_state=2018,\n",
       "            verbose=0, warm_start=False),\n",
       "       fit_params=None, iid=True, n_jobs=1,\n",
       "       param_grid={'max_features': [0.1, 0.3, 0.5, 0.7, 0.9]},\n",
       "       pre_dispatch='2*n_jobs', refit=True, return_train_score='warn',\n",
       "       scoring=None, verbose=0)"
      ]
     },
     "execution_count": 16,
     "metadata": {},
     "output_type": "execute_result"
    }
   ],
   "source": [
    "t_start = time.time()\n",
    "\n",
    "rf_max_features_param = {'max_features':[0.1, 0.3, 0.5, 0.7, 0.9]}\n",
    "\n",
    "rf = RandomForestClassifier(n_estimators=190, class_weight='balanced', random_state=2018)\n",
    "rf_max_features_gridcv = GridSearchCV(cv=10, estimator=rf, param_grid=rf_max_features_param)\n",
    "rf_max_features_gridcv.fit(X=x_train, y=y_train)"
   ]
  },
  {
   "cell_type": "code",
   "execution_count": 17,
   "metadata": {},
   "outputs": [
    {
     "name": "stdout",
     "output_type": "stream",
     "text": [
      "RandomForestClassifier(bootstrap=True, class_weight='balanced',\n",
      "            criterion='gini', max_depth=None, max_features=0.3,\n",
      "            max_leaf_nodes=None, min_impurity_decrease=0.0,\n",
      "            min_impurity_split=None, min_samples_leaf=1,\n",
      "            min_samples_split=2, min_weight_fraction_leaf=0.0,\n",
      "            n_estimators=190, n_jobs=1, oob_score=False, random_state=2018,\n",
      "            verbose=0, warm_start=False)\n",
      "0.7902013826269912\n",
      "{'mean_fit_time': array([ 5.77363031, 14.73814483, 23.74505808, 32.48694415, 42.2097142 ]), 'std_fit_time': array([0.14267415, 0.27507797, 0.36675816, 0.37314334, 0.72284201]), 'mean_score_time': array([0.08300478, 0.07810411, 0.0762043 , 0.07410378, 0.07300425]), 'std_score_time': array([0.02506934, 0.01049288, 0.00917442, 0.0034188 , 0.00412332]), 'param_max_features': masked_array(data=[0.1, 0.3, 0.5, 0.7, 0.9],\n",
      "             mask=[False, False, False, False, False],\n",
      "       fill_value='?',\n",
      "            dtype=object), 'params': [{'max_features': 0.1}, {'max_features': 0.3}, {'max_features': 0.5}, {'max_features': 0.7}, {'max_features': 0.9}], 'split0_test_score': array([0.79341317, 0.80239521, 0.79041916, 0.80538922, 0.80838323]), 'split1_test_score': array([0.78143713, 0.80239521, 0.79341317, 0.78742515, 0.79341317]), 'split2_test_score': array([0.82035928, 0.80538922, 0.80838323, 0.79640719, 0.80239521]), 'split3_test_score': array([0.78078078, 0.78078078, 0.79279279, 0.78078078, 0.77777778]), 'split4_test_score': array([0.78012048, 0.78614458, 0.79518072, 0.79216867, 0.76807229]), 'split5_test_score': array([0.78915663, 0.77710843, 0.78313253, 0.78012048, 0.78614458]), 'split6_test_score': array([0.77108434, 0.7560241 , 0.76204819, 0.75903614, 0.76506024]), 'split7_test_score': array([0.77409639, 0.78614458, 0.76204819, 0.78012048, 0.76807229]), 'split8_test_score': array([0.80421687, 0.81927711, 0.81626506, 0.81024096, 0.81325301]), 'split9_test_score': array([0.78915663, 0.78614458, 0.78614458, 0.79216867, 0.78614458]), 'mean_test_score': array([0.78839796, 0.79020138, 0.7889991 , 0.78839796, 0.7868951 ]), 'std_test_score': array([0.01407108, 0.01687757, 0.01638696, 0.01383759, 0.01645556]), 'rank_test_score': array([3, 1, 2, 3, 5]), 'split0_train_score': array([1., 1., 1., 1., 1.]), 'split1_train_score': array([1., 1., 1., 1., 1.]), 'split2_train_score': array([1., 1., 1., 1., 1.]), 'split3_train_score': array([1., 1., 1., 1., 1.]), 'split4_train_score': array([1., 1., 1., 1., 1.]), 'split5_train_score': array([1., 1., 1., 1., 1.]), 'split6_train_score': array([1., 1., 1., 1., 1.]), 'split7_train_score': array([1., 1., 1., 1., 1.]), 'split8_train_score': array([1., 1., 1., 1., 1.]), 'split9_train_score': array([1., 1., 1., 1., 1.]), 'mean_train_score': array([1., 1., 1., 1., 1.]), 'std_train_score': array([0., 0., 0., 0., 0.])}\n"
     ]
    }
   ],
   "source": [
    "print(rf_max_features_gridcv.best_estimator_)\n",
    "print(rf_max_features_gridcv.best_score_)\n",
    "print(rf_max_features_gridcv.cv_results_)"
   ]
  },
  {
   "cell_type": "code",
   "execution_count": 18,
   "metadata": {},
   "outputs": [
    {
     "name": "stdout",
     "output_type": "stream",
     "text": [
      "0.7820602662929222\n"
     ]
    }
   ],
   "source": [
    "score = rf_max_features_gridcv.score(x_test, y_test)\n",
    "print(score)"
   ]
  },
  {
   "cell_type": "code",
   "execution_count": 19,
   "metadata": {},
   "outputs": [
    {
     "name": "stdout",
     "output_type": "stream",
     "text": [
      "rf_max_features_gridcv训练结束,耗时:20.44069657723109min\n"
     ]
    }
   ],
   "source": [
    "joblib.dump(rf_max_features_gridcv, 'rf_max_features_gridcv.m')\n",
    "\n",
    "t_end = time.time()\n",
    "print('rf_max_features_gridcv训练结束,耗时:{}min'.format((t_end - t_start) / 60))"
   ]
  },
  {
   "cell_type": "markdown",
   "metadata": {},
   "source": [
    "## 结论"
   ]
  },
  {
   "cell_type": "markdown",
   "metadata": {},
   "source": [
    "### 随着max_features增加，整体的差异性减小，但是模型分数差不太多，可能是特征不稳定或者取得值没有达到上线。(从cv=0看这个一直来回跳变。)"
   ]
  },
  {
   "cell_type": "markdown",
   "metadata": {},
   "source": [
    "## 3、max_depth对数据的影响"
   ]
  },
  {
   "cell_type": "code",
   "execution_count": 20,
   "metadata": {},
   "outputs": [
    {
     "data": {
      "text/plain": [
       "GridSearchCV(cv=10, error_score='raise',\n",
       "       estimator=RandomForestClassifier(bootstrap=True, class_weight='balanced',\n",
       "            criterion='gini', max_depth=None, max_features=0.3,\n",
       "            max_leaf_nodes=None, min_impurity_decrease=0.0,\n",
       "            min_impurity_split=None, min_samples_leaf=1,\n",
       "            min_samples_split=2, min_weight_fraction_leaf=0.0,\n",
       "            n_estimators=190, n_jobs=1, oob_score=False, random_state=2018,\n",
       "            verbose=0, warm_start=False),\n",
       "       fit_params=None, iid=True, n_jobs=1,\n",
       "       param_grid={'max_depth': range(10, 80, 10)},\n",
       "       pre_dispatch='2*n_jobs', refit=True, return_train_score='warn',\n",
       "       scoring=None, verbose=0)"
      ]
     },
     "execution_count": 20,
     "metadata": {},
     "output_type": "execute_result"
    }
   ],
   "source": [
    "t_start = time.time()\n",
    "\n",
    "rf_max_depth_param = {'max_depth':range(10,80,10)}\n",
    "\n",
    "rf = RandomForestClassifier(n_estimators=190, max_features=0.3, class_weight='balanced', random_state=2018)\n",
    "rf_max_depth_gridcv = GridSearchCV(cv=10, estimator=rf, param_grid=rf_max_depth_param)\n",
    "rf_max_depth_gridcv.fit(X=x_train, y=y_train)"
   ]
  },
  {
   "cell_type": "code",
   "execution_count": 21,
   "metadata": {},
   "outputs": [
    {
     "name": "stdout",
     "output_type": "stream",
     "text": [
      "RandomForestClassifier(bootstrap=True, class_weight='balanced',\n",
      "            criterion='gini', max_depth=10, max_features=0.3,\n",
      "            max_leaf_nodes=None, min_impurity_decrease=0.0,\n",
      "            min_impurity_split=None, min_samples_leaf=1,\n",
      "            min_samples_split=2, min_weight_fraction_leaf=0.0,\n",
      "            n_estimators=190, n_jobs=1, oob_score=False, random_state=2018,\n",
      "            verbose=0, warm_start=False)\n",
      "0.7917042380522994\n",
      "{'mean_fit_time': array([12.37800794, 14.77227204, 14.94415474, 14.9457232 , 14.70872943,\n",
      "       14.83544853, 14.6692997 ]), 'std_fit_time': array([0.43896812, 0.26140357, 0.28290771, 0.21678725, 0.14510314,\n",
      "       0.18178236, 0.14032072]), 'mean_score_time': array([0.07230418, 0.07172358, 0.07450428, 0.07780399, 0.07364385,\n",
      "       0.07900448, 0.07284379]), 'std_score_time': array([0.01135014, 0.00379056, 0.0053154 , 0.00722269, 0.00425868,\n",
      "       0.01058363, 0.00474544]), 'param_max_depth': masked_array(data=[10, 20, 30, 40, 50, 60, 70],\n",
      "             mask=[False, False, False, False, False, False, False],\n",
      "       fill_value='?',\n",
      "            dtype=object), 'params': [{'max_depth': 10}, {'max_depth': 20}, {'max_depth': 30}, {'max_depth': 40}, {'max_depth': 50}, {'max_depth': 60}, {'max_depth': 70}], 'split0_test_score': array([0.80239521, 0.80538922, 0.7994012 , 0.80239521, 0.80239521,\n",
      "       0.80239521, 0.80239521]), 'split1_test_score': array([0.79640719, 0.78443114, 0.7994012 , 0.80239521, 0.80239521,\n",
      "       0.80239521, 0.80239521]), 'split2_test_score': array([0.80838323, 0.80538922, 0.80538922, 0.80538922, 0.80538922,\n",
      "       0.80538922, 0.80538922]), 'split3_test_score': array([0.78678679, 0.78378378, 0.78078078, 0.78078078, 0.78078078,\n",
      "       0.78078078, 0.78078078]), 'split4_test_score': array([0.77108434, 0.79216867, 0.78614458, 0.78614458, 0.78614458,\n",
      "       0.78614458, 0.78614458]), 'split5_test_score': array([0.77710843, 0.77710843, 0.77409639, 0.77710843, 0.77710843,\n",
      "       0.77710843, 0.77710843]), 'split6_test_score': array([0.77108434, 0.76506024, 0.7560241 , 0.7560241 , 0.7560241 ,\n",
      "       0.7560241 , 0.7560241 ]), 'split7_test_score': array([0.78614458, 0.78313253, 0.78012048, 0.78614458, 0.78614458,\n",
      "       0.78614458, 0.78614458]), 'split8_test_score': array([0.83433735, 0.81927711, 0.81927711, 0.81927711, 0.81927711,\n",
      "       0.81927711, 0.81927711]), 'split9_test_score': array([0.78313253, 0.78915663, 0.78614458, 0.78614458, 0.78614458,\n",
      "       0.78614458, 0.78614458]), 'mean_test_score': array([0.79170424, 0.79050195, 0.78869853, 0.79020138, 0.79020138,\n",
      "       0.79020138, 0.79020138]), 'std_test_score': array([0.01849192, 0.01495705, 0.01694131, 0.01687757, 0.01687757,\n",
      "       0.01687757, 0.01687757]), 'rank_test_score': array([1, 2, 7, 3, 3, 3, 3]), 'split0_train_score': array([0.98763782, 1.        , 1.        , 1.        , 1.        ,\n",
      "       1.        , 1.        ]), 'split1_train_score': array([0.98563314, 1.        , 1.        , 1.        , 1.        ,\n",
      "       1.        , 1.        ]), 'split2_train_score': array([0.98663548, 1.        , 1.        , 1.        , 1.        ,\n",
      "       1.        , 1.        ]), 'split3_train_score': array([0.98797595, 1.        , 1.        , 1.        , 1.        ,\n",
      "       1.        , 1.        ]), 'split4_train_score': array([0.98530885, 1.        , 1.        , 1.        , 1.        ,\n",
      "       1.        , 1.        ]), 'split5_train_score': array([0.98631052, 1.        , 1.        , 1.        , 1.        ,\n",
      "       1.        , 1.        ]), 'split6_train_score': array([0.98731219, 1.        , 1.        , 1.        , 1.        ,\n",
      "       1.        , 1.        ]), 'split7_train_score': array([0.98731219, 1.        , 1.        , 1.        , 1.        ,\n",
      "       1.        , 1.        ]), 'split8_train_score': array([0.98864775, 1.        , 1.        , 1.        , 1.        ,\n",
      "       1.        , 1.        ]), 'split9_train_score': array([0.98464107, 1.        , 1.        , 1.        , 1.        ,\n",
      "       1.        , 1.        ]), 'mean_train_score': array([0.9867415, 1.       , 1.       , 1.       , 1.       , 1.       ,\n",
      "       1.       ]), 'std_train_score': array([0.00120425, 0.        , 0.        , 0.        , 0.        ,\n",
      "       0.        , 0.        ])}\n"
     ]
    }
   ],
   "source": [
    "print(rf_max_depth_gridcv.best_estimator_)\n",
    "print(rf_max_depth_gridcv.best_score_)\n",
    "print(rf_max_depth_gridcv.cv_results_)"
   ]
  },
  {
   "cell_type": "code",
   "execution_count": 22,
   "metadata": {},
   "outputs": [
    {
     "name": "stdout",
     "output_type": "stream",
     "text": [
      "0.7813594954449895\n"
     ]
    }
   ],
   "source": [
    "score = rf_max_depth_gridcv.score(x_test, y_test)\n",
    "print(score)"
   ]
  },
  {
   "cell_type": "code",
   "execution_count": 23,
   "metadata": {},
   "outputs": [
    {
     "name": "stdout",
     "output_type": "stream",
     "text": [
      "rf_max_depth_gridcv训练结束,耗时:17.56621067126592min\n"
     ]
    }
   ],
   "source": [
    "joblib.dump(rf_max_depth_gridcv, 'rf_max_depth_gridcv.m')\n",
    "\n",
    "t_end = time.time()\n",
    "print('rf_max_depth_gridcv训练结束,耗时:{}min'.format((t_end - t_start) / 60))"
   ]
  },
  {
   "cell_type": "markdown",
   "metadata": {},
   "source": [
    "## 结论"
   ]
  },
  {
   "cell_type": "markdown",
   "metadata": {},
   "source": [
    "### 值可能没有达到上限，各个精确度差不太多。但是因为在各个cv情况下变化量大，可能是特征不稳定。"
   ]
  },
  {
   "cell_type": "markdown",
   "metadata": {},
   "source": [
    "## 4、 min_samples_split对数据的影响"
   ]
  },
  {
   "cell_type": "code",
   "execution_count": 24,
   "metadata": {},
   "outputs": [
    {
     "data": {
      "text/plain": [
       "GridSearchCV(cv=10, error_score='raise',\n",
       "       estimator=RandomForestClassifier(bootstrap=True, class_weight='balanced',\n",
       "            criterion='gini', max_depth=10, max_features=0.3,\n",
       "            max_leaf_nodes=None, min_impurity_decrease=0.0,\n",
       "            min_impurity_split=None, min_samples_leaf=1,\n",
       "            min_samples_split=2, min_weight_fraction_leaf=0.0,\n",
       "            n_estimators=190, n_jobs=1, oob_score=False, random_state=2018,\n",
       "            verbose=0, warm_start=False),\n",
       "       fit_params=None, iid=True, n_jobs=1,\n",
       "       param_grid={'min_samples_split': range(2, 10, 2)},\n",
       "       pre_dispatch='2*n_jobs', refit=True, return_train_score='warn',\n",
       "       scoring=None, verbose=0)"
      ]
     },
     "execution_count": 24,
     "metadata": {},
     "output_type": "execute_result"
    }
   ],
   "source": [
    "t_start = time.time()\n",
    "\n",
    "rf_min_samples_split_param = {'min_samples_split':range(2,10,2)}\n",
    "\n",
    "rf = RandomForestClassifier(n_estimators=190, max_features=0.3, max_depth=10, class_weight='balanced', random_state=2018)\n",
    "rf_min_samples_split_gridcv = GridSearchCV(cv=10, estimator=rf, param_grid=rf_min_samples_split_param)\n",
    "rf_min_samples_split_gridcv.fit(X=x_train, y=y_train)"
   ]
  },
  {
   "cell_type": "code",
   "execution_count": 25,
   "metadata": {},
   "outputs": [
    {
     "name": "stdout",
     "output_type": "stream",
     "text": [
      "RandomForestClassifier(bootstrap=True, class_weight='balanced',\n",
      "            criterion='gini', max_depth=10, max_features=0.3,\n",
      "            max_leaf_nodes=None, min_impurity_decrease=0.0,\n",
      "            min_impurity_split=None, min_samples_leaf=1,\n",
      "            min_samples_split=2, min_weight_fraction_leaf=0.0,\n",
      "            n_estimators=190, n_jobs=1, oob_score=False, random_state=2018,\n",
      "            verbose=0, warm_start=False)\n",
      "0.7917042380522994\n",
      "{'mean_fit_time': array([12.44071157, 12.36494257, 12.69827557, 12.4584456 ]), 'std_fit_time': array([0.16049592, 0.11859008, 0.27759162, 0.20234719]), 'mean_score_time': array([0.07370427, 0.07018378, 0.07840455, 0.070104  ]), 'std_score_time': array([0.00694366, 0.00499665, 0.01908087, 0.00457087]), 'param_min_samples_split': masked_array(data=[2, 4, 6, 8],\n",
      "             mask=[False, False, False, False],\n",
      "       fill_value='?',\n",
      "            dtype=object), 'params': [{'min_samples_split': 2}, {'min_samples_split': 4}, {'min_samples_split': 6}, {'min_samples_split': 8}], 'split0_test_score': array([0.80239521, 0.80538922, 0.80239521, 0.81137725]), 'split1_test_score': array([0.79640719, 0.80838323, 0.81437126, 0.79640719]), 'split2_test_score': array([0.80838323, 0.81437126, 0.81137725, 0.7994012 ]), 'split3_test_score': array([0.78678679, 0.78678679, 0.78678679, 0.78678679]), 'split4_test_score': array([0.77108434, 0.76506024, 0.75903614, 0.77710843]), 'split5_test_score': array([0.77710843, 0.76204819, 0.78313253, 0.76506024]), 'split6_test_score': array([0.77108434, 0.77710843, 0.76506024, 0.77710843]), 'split7_test_score': array([0.78614458, 0.78915663, 0.78313253, 0.78012048]), 'split8_test_score': array([0.83433735, 0.8253012 , 0.8313253 , 0.8313253 ]), 'split9_test_score': array([0.78313253, 0.78012048, 0.77409639, 0.77409639]), 'mean_test_score': array([0.79170424, 0.79140367, 0.7911031 , 0.78990081]), 'std_test_score': array([0.01849192, 0.02017864, 0.02198998, 0.01898762]), 'rank_test_score': array([1, 2, 3, 4]), 'split0_train_score': array([0.98763782, 0.98362847, 0.98095556, 0.97761443]), 'split1_train_score': array([0.98563314, 0.98529903, 0.98396258, 0.97995322]), 'split2_train_score': array([0.98663548, 0.98563314, 0.9819579 , 0.98028734]), 'split3_train_score': array([0.98797595, 0.98764195, 0.98396794, 0.98329993]), 'split4_train_score': array([0.98530885, 0.98297162, 0.97963272, 0.97662771]), 'split5_train_score': array([0.98631052, 0.98430718, 0.98297162, 0.98063439]), 'split6_train_score': array([0.98731219, 0.98263773, 0.97963272, 0.97462437]), 'split7_train_score': array([0.98731219, 0.98530885, 0.98263773, 0.9803005 ]), 'split8_train_score': array([0.98864775, 0.98631052, 0.98464107, 0.97996661]), 'split9_train_score': array([0.98464107, 0.98196995, 0.98063439, 0.97762938]), 'mean_train_score': array([0.9867415 , 0.98457084, 0.98209942, 0.97909379]), 'std_train_score': array([0.00120425, 0.00169347, 0.00173543, 0.00234172])}\n"
     ]
    }
   ],
   "source": [
    "print(rf_min_samples_split_gridcv.best_estimator_)\n",
    "print(rf_min_samples_split_gridcv.best_score_)\n",
    "print(rf_min_samples_split_gridcv.cv_results_)"
   ]
  },
  {
   "cell_type": "code",
   "execution_count": 26,
   "metadata": {},
   "outputs": [
    {
     "name": "stdout",
     "output_type": "stream",
     "text": [
      "0.7813594954449895\n"
     ]
    }
   ],
   "source": [
    "score = rf_min_samples_split_gridcv.score(x_test, y_test)\n",
    "print(score)"
   ]
  },
  {
   "cell_type": "code",
   "execution_count": 27,
   "metadata": {},
   "outputs": [
    {
     "name": "stdout",
     "output_type": "stream",
     "text": [
      "rf_min_samples_split_gridcv 训练结束,耗时:8.816150160630544min\n"
     ]
    }
   ],
   "source": [
    "joblib.dump(rf_min_samples_split_gridcv, 'rf_min_samples_split_gridcv.m')\n",
    "\n",
    "t_end = time.time()\n",
    "print('rf_min_samples_split_gridcv 训练结束,耗时:{}min'.format((t_end - t_start) / 60))"
   ]
  },
  {
   "cell_type": "markdown",
   "metadata": {},
   "source": [
    "## 结论"
   ]
  },
  {
   "cell_type": "markdown",
   "metadata": {},
   "source": [
    "### 整体效果不明朗，可能取值没有达到上限， 可能特征不稳定"
   ]
  },
  {
   "cell_type": "markdown",
   "metadata": {},
   "source": [
    "## 5、min_samples_leaf 对数据的影响"
   ]
  },
  {
   "cell_type": "code",
   "execution_count": 28,
   "metadata": {},
   "outputs": [
    {
     "data": {
      "text/plain": [
       "GridSearchCV(cv=10, error_score='raise',\n",
       "       estimator=RandomForestClassifier(bootstrap=True, class_weight='balanced',\n",
       "            criterion='gini', max_depth=10, max_features=0.3,\n",
       "            max_leaf_nodes=None, min_impurity_decrease=0.0,\n",
       "            min_impurity_split=None, min_samples_leaf=1,\n",
       "            min_samples_split=2, min_weight_fraction_leaf=0.0,\n",
       "            n_estimators=190, n_jobs=1, oob_score=False, random_state=2018,\n",
       "            verbose=0, warm_start=False),\n",
       "       fit_params=None, iid=True, n_jobs=1,\n",
       "       param_grid={'min_samples_leaf': range(2, 10, 2)},\n",
       "       pre_dispatch='2*n_jobs', refit=True, return_train_score='warn',\n",
       "       scoring=None, verbose=0)"
      ]
     },
     "execution_count": 28,
     "metadata": {},
     "output_type": "execute_result"
    }
   ],
   "source": [
    "t_start = time.time()\n",
    "\n",
    "rf_min_samples_leaf_param = {'min_samples_leaf':range(2,10,2)}\n",
    "\n",
    "rf = RandomForestClassifier(n_estimators=190, max_features=0.3, max_depth=10, min_samples_split=2, class_weight='balanced', random_state=2018)\n",
    "rf_min_samples_leaf_gridcv = GridSearchCV(cv=10, estimator=rf, param_grid=rf_min_samples_leaf_param)\n",
    "rf_min_samples_leaf_gridcv.fit(X=x_train, y=y_train)"
   ]
  },
  {
   "cell_type": "code",
   "execution_count": 29,
   "metadata": {},
   "outputs": [
    {
     "name": "stdout",
     "output_type": "stream",
     "text": [
      "RandomForestClassifier(bootstrap=True, class_weight='balanced',\n",
      "            criterion='gini', max_depth=10, max_features=0.3,\n",
      "            max_leaf_nodes=None, min_impurity_decrease=0.0,\n",
      "            min_impurity_split=None, min_samples_leaf=2,\n",
      "            min_samples_split=2, min_weight_fraction_leaf=0.0,\n",
      "            n_estimators=190, n_jobs=1, oob_score=False, random_state=2018,\n",
      "            verbose=0, warm_start=False)\n",
      "0.7947099489029156\n",
      "{'mean_fit_time': array([12.40980978, 11.58576264, 11.13383682, 10.71811311]), 'std_fit_time': array([0.37287417, 0.12415501, 0.14534085, 0.20399659]), 'mean_score_time': array([0.07010403, 0.07620435, 0.07280416, 0.07310419]), 'std_score_time': array([0.0037804 , 0.01041983, 0.01008811, 0.00763514]), 'param_min_samples_leaf': masked_array(data=[2, 4, 6, 8],\n",
      "             mask=[False, False, False, False],\n",
      "       fill_value='?',\n",
      "            dtype=object), 'params': [{'min_samples_leaf': 2}, {'min_samples_leaf': 4}, {'min_samples_leaf': 6}, {'min_samples_leaf': 8}], 'split0_test_score': array([0.80838323, 0.80838323, 0.7994012 , 0.81137725]), 'split1_test_score': array([0.79341317, 0.7994012 , 0.79640719, 0.78443114]), 'split2_test_score': array([0.80838323, 0.80838323, 0.7994012 , 0.79041916]), 'split3_test_score': array([0.80780781, 0.8048048 , 0.7987988 , 0.78978979]), 'split4_test_score': array([0.77108434, 0.75903614, 0.76807229, 0.75903614]), 'split5_test_score': array([0.77409639, 0.76506024, 0.76807229, 0.7560241 ]), 'split6_test_score': array([0.78012048, 0.77409639, 0.77710843, 0.75      ]), 'split7_test_score': array([0.78313253, 0.78614458, 0.78012048, 0.78313253]), 'split8_test_score': array([0.82831325, 0.84337349, 0.84036145, 0.8373494 ]), 'split9_test_score': array([0.79216867, 0.77710843, 0.79216867, 0.78614458]), 'mean_test_score': array([0.79470995, 0.79260595, 0.79200481, 0.7847911 ]), 'std_test_score': array([0.01734706, 0.0240249 , 0.02003613, 0.02494645]), 'rank_test_score': array([1, 2, 3, 4]), 'split0_train_score': array([0.98496492, 0.97126629, 0.95289008, 0.93150685]), 'split1_train_score': array([0.98362847, 0.97093218, 0.95055129, 0.93484798]), 'split2_train_score': array([0.98496492, 0.97093218, 0.95689943, 0.93484798]), 'split3_train_score': array([0.98663995, 0.97728791, 0.95624582, 0.93987976]), 'split4_train_score': array([0.98196995, 0.96961603, 0.95392321, 0.93322204]), 'split5_train_score': array([0.98530885, 0.97429048, 0.95325543, 0.93055092]), 'split6_train_score': array([0.98497496, 0.96994992, 0.95325543, 0.93355593]), 'split7_train_score': array([0.98797997, 0.97262104, 0.95492487, 0.94056761]), 'split8_train_score': array([0.98664441, 0.97195326, 0.95792988, 0.9375626 ]), 'split9_train_score': array([0.98297162, 0.97128548, 0.95225376, 0.93355593]), 'mean_train_score': array([0.9850048 , 0.97201347, 0.95421292, 0.93500976]), 'std_train_score': array([0.00171897, 0.00216356, 0.00215838, 0.00317413])}\n"
     ]
    }
   ],
   "source": [
    "print(rf_min_samples_leaf_gridcv.best_estimator_)\n",
    "print(rf_min_samples_leaf_gridcv.best_score_)\n",
    "print(rf_min_samples_leaf_gridcv.cv_results_)"
   ]
  },
  {
   "cell_type": "code",
   "execution_count": 30,
   "metadata": {},
   "outputs": [
    {
     "name": "stdout",
     "output_type": "stream",
     "text": [
      "0.7820602662929222\n"
     ]
    }
   ],
   "source": [
    "score = rf_min_samples_leaf_gridcv.score(x_test, y_test)\n",
    "print(score)"
   ]
  },
  {
   "cell_type": "code",
   "execution_count": 31,
   "metadata": {},
   "outputs": [
    {
     "name": "stdout",
     "output_type": "stream",
     "text": [
      "rf_min_samples_leaf_gridcv 训练结束,耗时:8.12963165442149min\n"
     ]
    }
   ],
   "source": [
    "joblib.dump(rf_min_samples_leaf_gridcv, 'rf_min_samples_leaf_gridcv.m')\n",
    "\n",
    "t_end = time.time()\n",
    "print('rf_min_samples_leaf_gridcv 训练结束,耗时:{}min'.format((t_end - t_start) / 60))"
   ]
  },
  {
   "cell_type": "markdown",
   "metadata": {},
   "source": [
    "## 结论"
   ]
  },
  {
   "cell_type": "markdown",
   "metadata": {},
   "source": [
    "### 特征不稳定， 值并未达到上限。"
   ]
  },
  {
   "cell_type": "markdown",
   "metadata": {},
   "source": [
    "## 6、max_leaf_nodes 对数据的影响"
   ]
  },
  {
   "cell_type": "code",
   "execution_count": 3,
   "metadata": {},
   "outputs": [
    {
     "data": {
      "text/plain": [
       "GridSearchCV(cv=10, error_score='raise',\n",
       "       estimator=RandomForestClassifier(bootstrap=True, class_weight='balanced',\n",
       "            criterion='gini', max_depth=10, max_features=0.3,\n",
       "            max_leaf_nodes=None, min_impurity_decrease=0.0,\n",
       "            min_impurity_split=None, min_samples_leaf=2,\n",
       "            min_samples_split=2, min_weight_fraction_leaf=0.0,\n",
       "            n_estimators=190, n_jobs=1, oob_score=False, random_state=2018,\n",
       "            verbose=0, warm_start=False),\n",
       "       fit_params=None, iid=True, n_jobs=1,\n",
       "       param_grid={'max_leaf_nodes': range(10, 50, 10)},\n",
       "       pre_dispatch='2*n_jobs', refit=True, return_train_score='warn',\n",
       "       scoring=None, verbose=0)"
      ]
     },
     "execution_count": 3,
     "metadata": {},
     "output_type": "execute_result"
    }
   ],
   "source": [
    "t_start = time.time()\n",
    "\n",
    "rf_max_leaf_nodes_param = {'max_leaf_nodes':range(10,50,10)}\n",
    "\n",
    "rf = RandomForestClassifier(n_estimators=190, max_features=0.3, max_depth=10, min_samples_split=2, \n",
    "                            min_samples_leaf=2, class_weight='balanced', random_state=2018)\n",
    "rf_max_leaf_nodesf_gridcv = GridSearchCV(cv=10, estimator=rf, param_grid=rf_max_leaf_nodes_param)\n",
    "rf_max_leaf_nodesf_gridcv.fit(X=x_train, y=y_train)"
   ]
  },
  {
   "cell_type": "code",
   "execution_count": 4,
   "metadata": {},
   "outputs": [
    {
     "name": "stdout",
     "output_type": "stream",
     "text": [
      "RandomForestClassifier(bootstrap=True, class_weight='balanced',\n",
      "            criterion='gini', max_depth=10, max_features=0.3,\n",
      "            max_leaf_nodes=40, min_impurity_decrease=0.0,\n",
      "            min_impurity_split=None, min_samples_leaf=2,\n",
      "            min_samples_split=2, min_weight_fraction_leaf=0.0,\n",
      "            n_estimators=190, n_jobs=1, oob_score=False, random_state=2018,\n",
      "            verbose=0, warm_start=False)\n",
      "0.7679591223324316\n",
      "{'mean_fit_time': array([ 6.77908766,  8.76840155,  9.47484188, 10.06327558]), 'std_fit_time': array([0.27612991, 0.64582644, 0.7413639 , 0.42569193]), 'mean_score_time': array([0.06620388, 0.06870403, 0.06930397, 0.07360418]), 'std_score_time': array([0.00667564, 0.01185856, 0.01162008, 0.01672328]), 'param_max_leaf_nodes': masked_array(data=[10, 20, 30, 40],\n",
      "             mask=[False, False, False, False],\n",
      "       fill_value='?',\n",
      "            dtype=object), 'params': [{'max_leaf_nodes': 10}, {'max_leaf_nodes': 20}, {'max_leaf_nodes': 30}, {'max_leaf_nodes': 40}], 'split0_test_score': array([0.73952096, 0.75748503, 0.76646707, 0.77844311]), 'split1_test_score': array([0.75748503, 0.74251497, 0.75748503, 0.76646707]), 'split2_test_score': array([0.7245509 , 0.74251497, 0.75149701, 0.76946108]), 'split3_test_score': array([0.75675676, 0.76276276, 0.77477477, 0.78078078]), 'split4_test_score': array([0.67771084, 0.70481928, 0.73493976, 0.74698795]), 'split5_test_score': array([0.71686747, 0.72590361, 0.73493976, 0.74698795]), 'split6_test_score': array([0.68072289, 0.70180723, 0.72590361, 0.74096386]), 'split7_test_score': array([0.75      , 0.75903614, 0.76204819, 0.75903614]), 'split8_test_score': array([0.78614458, 0.80421687, 0.82228916, 0.8253012 ]), 'split9_test_score': array([0.71686747, 0.75      , 0.7560241 , 0.76506024]), 'mean_test_score': array([0.73068831, 0.74511572, 0.75864142, 0.76795912]), 'std_test_score': array([0.03260597, 0.0283585 , 0.0257414 , 0.02292021]), 'rank_test_score': array([4, 3, 2, 1]), 'split0_train_score': array([0.75208821, 0.795857  , 0.82926829, 0.8526562 ]), 'split1_train_score': array([0.76311393, 0.80755095, 0.83294353, 0.85566321]), 'split2_train_score': array([0.76344805, 0.80521216, 0.83227531, 0.85466088]), 'split3_train_score': array([0.75450902, 0.79625919, 0.82631931, 0.85404142]), 'split4_train_score': array([0.76327212, 0.8033389 , 0.83672788, 0.85742905]), 'split5_train_score': array([0.760601  , 0.80734558, 0.8360601 , 0.86110184]), 'split6_train_score': array([0.760601  , 0.80166945, 0.82904841, 0.85776294]), 'split7_train_score': array([0.75959933, 0.80601002, 0.83338898, 0.85843072]), 'split8_train_score': array([0.74657763, 0.78964942, 0.82537563, 0.85609349]), 'split9_train_score': array([0.76260434, 0.80133556, 0.83572621, 0.85809683]), 'mean_train_score': array([0.75864146, 0.80142282, 0.83171337, 0.85659366]), 'std_train_score': array([0.00542595, 0.00555003, 0.00383565, 0.00234291])}\n"
     ]
    }
   ],
   "source": [
    "print(rf_max_leaf_nodesf_gridcv.best_estimator_)\n",
    "print(rf_max_leaf_nodesf_gridcv.best_score_)\n",
    "print(rf_max_leaf_nodesf_gridcv.cv_results_)"
   ]
  },
  {
   "cell_type": "code",
   "execution_count": 5,
   "metadata": {},
   "outputs": [
    {
     "name": "stdout",
     "output_type": "stream",
     "text": [
      "0.747021723896286\n"
     ]
    }
   ],
   "source": [
    "score = rf_max_leaf_nodesf_gridcv.score(x_test, y_test)\n",
    "print(score)"
   ]
  },
  {
   "cell_type": "code",
   "execution_count": 6,
   "metadata": {},
   "outputs": [
    {
     "name": "stdout",
     "output_type": "stream",
     "text": [
      "rf_max_leaf_nodesf_gridcv 训练结束,耗时:6.275425597031911min\n"
     ]
    }
   ],
   "source": [
    "joblib.dump(rf_max_leaf_nodesf_gridcv, 'rf_max_leaf_nodesf_gridcv.m')\n",
    "\n",
    "t_end = time.time()\n",
    "print('rf_max_leaf_nodesf_gridcv 训练结束,耗时:{}min'.format((t_end - t_start) / 60))"
   ]
  },
  {
   "cell_type": "markdown",
   "metadata": {},
   "source": [
    "## 结论"
   ]
  },
  {
   "cell_type": "markdown",
   "metadata": {},
   "source": [
    "### 这个的效果会比较明朗，随着_max_leaf_nodes增加，精确度会提高，但并未达到上限"
   ]
  },
  {
   "cell_type": "code",
   "execution_count": null,
   "metadata": {},
   "outputs": [],
   "source": []
  }
 ],
 "metadata": {
  "kernelspec": {
   "display_name": "Python 3",
   "language": "python",
   "name": "python3"
  },
  "language_info": {
   "codemirror_mode": {
    "name": "ipython",
    "version": 3
   },
   "file_extension": ".py",
   "mimetype": "text/x-python",
   "name": "python",
   "nbconvert_exporter": "python",
   "pygments_lexer": "ipython3",
   "version": "3.6.5"
  }
 },
 "nbformat": 4,
 "nbformat_minor": 2
}
