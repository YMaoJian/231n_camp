{
 "cells": [
  {
   "cell_type": "code",
   "execution_count": 1,
   "metadata": {},
   "outputs": [],
   "source": [
    "from sklearn.model_selection import train_test_split\n",
    "from sklearn.externals import joblib\n",
    "from sklearn.ensemble import RandomForestClassifier, GradientBoostingClassifier\n",
    "from sklearn.model_selection import GridSearchCV\n",
    "import lightgbm as lgb\n",
    "import xgboost\n",
    "import pandas as pd\n",
    "import time"
   ]
  },
  {
   "cell_type": "markdown",
   "metadata": {},
   "source": [
    "# gdbt\n",
    "### 以下过程类似对全部的参数使用GridSearchCV。通过找出每一个参数的最优值，重新代入，寻找其中的关系。这里把这些分开主要用于分析。（时间与能力有限，后续增改）\n",
    "[参数说明链接](http://www.cnblogs.com/DjangoBlog/p/6201663.html)"
   ]
  },
  {
   "cell_type": "code",
   "execution_count": 2,
   "metadata": {},
   "outputs": [
    {
     "name": "stdout",
     "output_type": "stream",
     "text": [
      "(4754, 85)\n",
      "(3327, 84) (3327,) (1427, 84) (1427,)\n"
     ]
    }
   ],
   "source": [
    "data = pd.read_csv('data_all.csv')\n",
    "y_data = pd.DataFrame(data['status']).values.ravel()\n",
    "x_data = data.drop(columns='status').values\n",
    "\n",
    "x_train, x_test, y_train, y_test = train_test_split(x_data, y_data, test_size=0.3, random_state=2018)\n",
    "print(data.shape)\n",
    "print(x_train.shape, y_train.shape, x_test.shape, y_test.shape)"
   ]
  },
  {
   "cell_type": "markdown",
   "metadata": {},
   "source": [
    "## 1、loss 验证LR和adaboost适用的场景"
   ]
  },
  {
   "cell_type": "code",
   "execution_count": 3,
   "metadata": {},
   "outputs": [
    {
     "data": {
      "text/plain": [
       "GridSearchCV(cv=10, error_score='raise',\n",
       "       estimator=GradientBoostingClassifier(criterion='friedman_mse', init=None,\n",
       "              learning_rate=0.1, loss='deviance', max_depth=3,\n",
       "              max_features=None, max_leaf_nodes=None,\n",
       "              min_impurity_decrease=0.0, min_impurity_split=None,\n",
       "              min_samples_leaf=1, min_samples_split=2,\n",
       "              min_weight_fraction_leaf=0.0, n_estimators=100,\n",
       "              presort='auto', random_state=2018, subsample=1.0, verbose=0,\n",
       "              warm_start=False),\n",
       "       fit_params=None, iid=True, n_jobs=1,\n",
       "       param_grid={'loss': ['deviance', 'exponential']},\n",
       "       pre_dispatch='2*n_jobs', refit=True, return_train_score='warn',\n",
       "       scoring=None, verbose=0)"
      ]
     },
     "execution_count": 3,
     "metadata": {},
     "output_type": "execute_result"
    }
   ],
   "source": [
    "t_start = time.time()\n",
    "\n",
    "gdbt_loss_param = {'loss':['deviance', 'exponential']}\n",
    "\n",
    "gdbt = GradientBoostingClassifier(random_state=2018)\n",
    "gdbt_loss_gridcv = GridSearchCV(cv=10, estimator=gdbt, param_grid=gdbt_loss_param)\n",
    "gdbt_loss_gridcv.fit(X=x_train, y=y_train)"
   ]
  },
  {
   "cell_type": "code",
   "execution_count": 4,
   "metadata": {},
   "outputs": [
    {
     "name": "stdout",
     "output_type": "stream",
     "text": [
      "GradientBoostingClassifier(criterion='friedman_mse', init=None,\n",
      "              learning_rate=0.1, loss='exponential', max_depth=3,\n",
      "              max_features=None, max_leaf_nodes=None,\n",
      "              min_impurity_decrease=0.0, min_impurity_split=None,\n",
      "              min_samples_leaf=1, min_samples_split=2,\n",
      "              min_weight_fraction_leaf=0.0, n_estimators=100,\n",
      "              presort='auto', random_state=2018, subsample=1.0, verbose=0,\n",
      "              warm_start=False)\n",
      "0.7953110910730388\n",
      "{'mean_fit_time': array([5.40070891, 5.63952253]), 'std_fit_time': array([0.49382256, 0.84632721]), 'mean_score_time': array([0.00400028, 0.00380025]), 'std_score_time': array([0.00044723, 0.00074835]), 'param_loss': masked_array(data=['deviance', 'exponential'],\n",
      "             mask=[False, False],\n",
      "       fill_value='?',\n",
      "            dtype=object), 'params': [{'loss': 'deviance'}, {'loss': 'exponential'}], 'split0_test_score': array([0.80538922, 0.81736527]), 'split1_test_score': array([0.78742515, 0.77844311]), 'split2_test_score': array([0.80239521, 0.81736527]), 'split3_test_score': array([0.79279279, 0.8018018 ]), 'split4_test_score': array([0.74698795, 0.76807229]), 'split5_test_score': array([0.78915663, 0.78614458]), 'split6_test_score': array([0.78313253, 0.77710843]), 'split7_test_score': array([0.79819277, 0.79518072]), 'split8_test_score': array([0.82831325, 0.8253012 ]), 'split9_test_score': array([0.78012048, 0.78614458]), 'mean_test_score': array([0.79140367, 0.79531109]), 'std_test_score': array([0.01977339, 0.01854897]), 'rank_test_score': array([2, 1]), 'split0_train_score': array([0.86668894, 0.85098563]), 'split1_train_score': array([0.86602072, 0.84931507]), 'split2_train_score': array([0.87036418, 0.85399265]), 'split3_train_score': array([0.86673347, 0.85170341]), 'split4_train_score': array([0.86811352, 0.85676127]), 'split5_train_score': array([0.8721202 , 0.85342237]), 'split6_train_score': array([0.8654424 , 0.85375626]), 'split7_train_score': array([0.86777963, 0.85542571]), 'split8_train_score': array([0.86510851, 0.85008347]), 'split9_train_score': array([0.86577629, 0.85175292]), 'mean_train_score': array([0.86741479, 0.85271988]), 'std_train_score': array([0.0021515 , 0.00224413])}\n"
     ]
    }
   ],
   "source": [
    "print(gdbt_loss_gridcv.best_estimator_)\n",
    "print(gdbt_loss_gridcv.best_score_)\n",
    "print(gdbt_loss_gridcv.cv_results_)"
   ]
  },
  {
   "cell_type": "code",
   "execution_count": 5,
   "metadata": {},
   "outputs": [
    {
     "name": "stdout",
     "output_type": "stream",
     "text": [
      "0.7876664330763841\n"
     ]
    }
   ],
   "source": [
    "score = gdbt_loss_gridcv.score(x_test, y_test)\n",
    "print(score)"
   ]
  },
  {
   "cell_type": "code",
   "execution_count": 6,
   "metadata": {},
   "outputs": [
    {
     "name": "stdout",
     "output_type": "stream",
     "text": [
      "gdbt_loss_gridcv 训练结束,耗时:1.9544617891311646min\n"
     ]
    }
   ],
   "source": [
    "joblib.dump(gdbt_loss_gridcv, 'gdbt_loss_gridcv.m')\n",
    "\n",
    "t_end = time.time()\n",
    "print('gdbt_loss_gridcv 训练结束,耗时:{}min'.format((t_end - t_start) / 60))"
   ]
  },
  {
   "cell_type": "markdown",
   "metadata": {},
   "source": [
    "## 结论"
   ]
  },
  {
   "cell_type": "markdown",
   "metadata": {},
   "source": [
    "### 整体现象看不出这两个的差距"
   ]
  },
  {
   "cell_type": "markdown",
   "metadata": {},
   "source": [
    "## 2、n_estimators对数据的影响"
   ]
  },
  {
   "cell_type": "code",
   "execution_count": 4,
   "metadata": {},
   "outputs": [
    {
     "data": {
      "text/plain": [
       "GridSearchCV(cv=10, error_score='raise',\n",
       "       estimator=GradientBoostingClassifier(criterion='friedman_mse', init=None,\n",
       "              learning_rate=0.1, loss='exponential', max_depth=3,\n",
       "              max_features=None, max_leaf_nodes=None,\n",
       "              min_impurity_decrease=0.0, min_impurity_split=None,\n",
       "              min_samples_leaf=1, min_samples_split=2,\n",
       "              min_weight_fraction_leaf=0.0, n_estimators=100,\n",
       "              presort='auto', random_state=2018, subsample=1.0, verbose=0,\n",
       "              warm_start=False),\n",
       "       fit_params=None, iid=True, n_jobs=1,\n",
       "       param_grid={'n_estimators': range(100, 300, 50)},\n",
       "       pre_dispatch='2*n_jobs', refit=True, return_train_score='warn',\n",
       "       scoring=None, verbose=0)"
      ]
     },
     "execution_count": 4,
     "metadata": {},
     "output_type": "execute_result"
    }
   ],
   "source": [
    "t_start = time.time()\n",
    "\n",
    "gdbt_n_estimators_param = {'n_estimators':range(100, 300, 50)}\n",
    "\n",
    "gdbt = GradientBoostingClassifier(loss='exponential', random_state=2018)\n",
    "gdbt_n_estimators_gridcv = GridSearchCV(cv=10, estimator=gdbt, param_grid=gdbt_n_estimators_param)\n",
    "gdbt_n_estimators_gridcv.fit(X=x_train, y=y_train)"
   ]
  },
  {
   "cell_type": "code",
   "execution_count": 5,
   "metadata": {},
   "outputs": [
    {
     "name": "stdout",
     "output_type": "stream",
     "text": [
      "GradientBoostingClassifier(criterion='friedman_mse', init=None,\n",
      "              learning_rate=0.1, loss='exponential', max_depth=3,\n",
      "              max_features=None, max_leaf_nodes=None,\n",
      "              min_impurity_decrease=0.0, min_impurity_split=None,\n",
      "              min_samples_leaf=1, min_samples_split=2,\n",
      "              min_weight_fraction_leaf=0.0, n_estimators=100,\n",
      "              presort='auto', random_state=2018, subsample=1.0, verbose=0,\n",
      "              warm_start=False)\n",
      "0.7956116621581004\n",
      "{'mean_fit_time': array([1.0595    , 1.62320004, 2.01839995, 2.50299997]), 'std_fit_time': array([0.05248852, 0.16937228, 0.10659093, 0.04318323]), 'mean_score_time': array([0.00100002, 0.00139995, 0.00140004, 0.00160005]), 'std_score_time': array([1.16800773e-07, 4.89872184e-04, 4.89891666e-04, 4.89950069e-04]), 'param_n_estimators': masked_array(data=[100, 150, 200, 250],\n",
      "             mask=[False, False, False, False],\n",
      "       fill_value='?',\n",
      "            dtype=object), 'params': [{'n_estimators': 100}, {'n_estimators': 150}, {'n_estimators': 200}, {'n_estimators': 250}], 'split0_test_score': array([0.81736527, 0.81137725, 0.81437126, 0.81137725]), 'split1_test_score': array([0.78143713, 0.7754491 , 0.78443114, 0.78143713]), 'split2_test_score': array([0.81736527, 0.7994012 , 0.80239521, 0.80538922]), 'split3_test_score': array([0.8018018 , 0.78678679, 0.78978979, 0.79279279]), 'split4_test_score': array([0.76807229, 0.77409639, 0.77710843, 0.77710843]), 'split5_test_score': array([0.78614458, 0.78313253, 0.78313253, 0.78313253]), 'split6_test_score': array([0.77710843, 0.78012048, 0.78313253, 0.78012048]), 'split7_test_score': array([0.79518072, 0.78915663, 0.79216867, 0.79518072]), 'split8_test_score': array([0.8253012 , 0.81927711, 0.82228916, 0.81927711]), 'split9_test_score': array([0.78614458, 0.77108434, 0.77108434, 0.76506024]), 'mean_test_score': array([0.79561166, 0.7889991 , 0.79200481, 0.7911031 ]), 'std_test_score': array([0.01829573, 0.01539588, 0.01550359, 0.01605893]), 'rank_test_score': array([1, 4, 2, 3]), 'split0_train_score': array([0.85098563, 0.87170063, 0.88539926, 0.90243902]), 'split1_train_score': array([0.84931507, 0.86769128, 0.88840628, 0.90143669]), 'split2_train_score': array([0.85399265, 0.87637822, 0.89375209, 0.90678249]), 'split3_train_score': array([0.85170341, 0.87040748, 0.88810955, 0.90647963]), 'split4_train_score': array([0.85676127, 0.87412354, 0.88948247, 0.90383973]), 'split5_train_score': array([0.85342237, 0.87178631, 0.88948247, 0.9081803 ]), 'split6_train_score': array([0.85375626, 0.87045075, 0.89015025, 0.90717863]), 'split7_train_score': array([0.85542571, 0.87412354, 0.89115192, 0.90550918]), 'split8_train_score': array([0.85008347, 0.86811352, 0.88881469, 0.89916528]), 'split9_train_score': array([0.85175292, 0.87145242, 0.88580968, 0.90350584]), 'mean_train_score': array([0.85271988, 0.87162277, 0.88905587, 0.90445168]), 'std_train_score': array([0.00224413, 0.00256526, 0.00230854, 0.00272688])}\n"
     ]
    }
   ],
   "source": [
    "print(gdbt_n_estimators_gridcv.best_estimator_)\n",
    "print(gdbt_n_estimators_gridcv.best_score_)\n",
    "print(gdbt_n_estimators_gridcv.cv_results_)"
   ]
  },
  {
   "cell_type": "code",
   "execution_count": 6,
   "metadata": {},
   "outputs": [
    {
     "name": "stdout",
     "output_type": "stream",
     "text": [
      "0.7876664330763841\n"
     ]
    }
   ],
   "source": [
    "score = gdbt_n_estimators_gridcv.score(x_test, y_test)\n",
    "print(score)"
   ]
  },
  {
   "cell_type": "code",
   "execution_count": 7,
   "metadata": {},
   "outputs": [
    {
     "name": "stdout",
     "output_type": "stream",
     "text": [
      "gdbt_n_estimators_gridcv 训练结束,耗时:1.2338833332061767min\n"
     ]
    }
   ],
   "source": [
    "joblib.dump(gdbt_n_estimators_gridcv, 'gdbt_n_estimators_gridcv.m')\n",
    "\n",
    "t_end = time.time()\n",
    "print('gdbt_n_estimators_gridcv 训练结束,耗时:{}min'.format((t_end - t_start) / 60))"
   ]
  },
  {
   "cell_type": "markdown",
   "metadata": {},
   "source": [
    "## 结论"
   ]
  },
  {
   "cell_type": "markdown",
   "metadata": {},
   "source": [
    "### 测试中超过了3便会降低精确度，但是训练中会提高精度，可能是小范围波动"
   ]
  },
  {
   "cell_type": "markdown",
   "metadata": {},
   "source": [
    "## 3、max_depth对数据的影响(由于随机森林中的深度为10，这里就缩小范围)"
   ]
  },
  {
   "cell_type": "code",
   "execution_count": 8,
   "metadata": {},
   "outputs": [
    {
     "data": {
      "text/plain": [
       "GridSearchCV(cv=10, error_score='raise',\n",
       "       estimator=GradientBoostingClassifier(criterion='friedman_mse', init=None,\n",
       "              learning_rate=0.1, loss='exponential', max_depth=3,\n",
       "              max_features=None, max_leaf_nodes=None,\n",
       "              min_impurity_decrease=0.0, min_impurity_split=None,\n",
       "              min_samples_leaf=1, min_samples_split=2,\n",
       "              min_weight_fraction_leaf=0.0, n_estimators=100,\n",
       "              presort='auto', random_state=2018, subsample=1.0, verbose=0,\n",
       "              warm_start=False),\n",
       "       fit_params=None, iid=True, n_jobs=1,\n",
       "       param_grid={'max_depth': range(3, 15, 3)}, pre_dispatch='2*n_jobs',\n",
       "       refit=True, return_train_score='warn', scoring=None, verbose=0)"
      ]
     },
     "execution_count": 8,
     "metadata": {},
     "output_type": "execute_result"
    }
   ],
   "source": [
    "t_start = time.time()\n",
    "\n",
    "gdbt_max_depth_param = {'max_depth':range(3, 15, 3)}\n",
    "\n",
    "gdbt = GradientBoostingClassifier(loss='exponential', n_estimators=100, random_state=2018)\n",
    "gdbt_max_depth_gridcv = GridSearchCV(cv=10, estimator=gdbt, param_grid=gdbt_max_depth_param)\n",
    "gdbt_max_depth_gridcv.fit(X=x_train, y=y_train)"
   ]
  },
  {
   "cell_type": "code",
   "execution_count": 9,
   "metadata": {},
   "outputs": [
    {
     "name": "stdout",
     "output_type": "stream",
     "text": [
      "GradientBoostingClassifier(criterion='friedman_mse', init=None,\n",
      "              learning_rate=0.1, loss='exponential', max_depth=3,\n",
      "              max_features=None, max_leaf_nodes=None,\n",
      "              min_impurity_decrease=0.0, min_impurity_split=None,\n",
      "              min_samples_leaf=1, min_samples_split=2,\n",
      "              min_weight_fraction_leaf=0.0, n_estimators=100,\n",
      "              presort='auto', random_state=2018, subsample=1.0, verbose=0,\n",
      "              warm_start=False)\n",
      "0.7956116621581004\n",
      "{'mean_fit_time': array([ 1.10250003,  3.10949993,  7.44559999, 13.83940003]), 'std_fit_time': array([0.1120779 , 0.08190146, 0.25873241, 0.49493799]), 'mean_score_time': array([0.00119998, 0.00160003, 0.00309999, 0.00449998]), 'std_score_time': array([0.00060009, 0.00048993, 0.00029999, 0.00049994]), 'param_max_depth': masked_array(data=[3, 6, 9, 12],\n",
      "             mask=[False, False, False, False],\n",
      "       fill_value='?',\n",
      "            dtype=object), 'params': [{'max_depth': 3}, {'max_depth': 6}, {'max_depth': 9}, {'max_depth': 12}], 'split0_test_score': array([0.81736527, 0.78742515, 0.79640719, 0.79041916]), 'split1_test_score': array([0.78143713, 0.78143713, 0.7754491 , 0.77844311]), 'split2_test_score': array([0.81736527, 0.80239521, 0.78742515, 0.79640719]), 'split3_test_score': array([0.8018018 , 0.77477477, 0.7987988 , 0.7987988 ]), 'split4_test_score': array([0.76807229, 0.76807229, 0.78012048, 0.75      ]), 'split5_test_score': array([0.78614458, 0.79216867, 0.78915663, 0.78614458]), 'split6_test_score': array([0.77710843, 0.77710843, 0.77710843, 0.80421687]), 'split7_test_score': array([0.79518072, 0.77409639, 0.78313253, 0.78915663]), 'split8_test_score': array([0.8253012 , 0.81325301, 0.81325301, 0.82228916]), 'split9_test_score': array([0.78614458, 0.76506024, 0.77108434, 0.77108434]), 'mean_test_score': array([0.79561166, 0.78358882, 0.78719567, 0.78869853]), 'std_test_score': array([0.01829573, 0.014555  , 0.01211156, 0.01856701]), 'rank_test_score': array([1, 4, 3, 2]), 'split0_train_score': array([0.85098563, 0.9896425 , 1.        , 1.        ]), 'split1_train_score': array([0.84931507, 0.99064484, 1.        , 1.        ]), 'split2_train_score': array([0.85399265, 0.98663548, 1.        , 1.        ]), 'split3_train_score': array([0.85170341, 0.98830995, 1.        , 1.        ]), 'split4_train_score': array([0.85676127, 0.99098497, 1.        , 1.        ]), 'split5_train_score': array([0.85342237, 0.99065109, 1.        , 1.        ]), 'split6_train_score': array([0.85375626, 0.9869783 , 1.        , 1.        ]), 'split7_train_score': array([0.85542571, 0.98864775, 1.        , 1.        ]), 'split8_train_score': array([0.85008347, 0.98664441, 1.        , 1.        ]), 'split9_train_score': array([0.85175292, 0.98831386, 1.        , 1.        ]), 'mean_train_score': array([0.85271988, 0.98874531, 1.        , 1.        ]), 'std_train_score': array([0.00224413, 0.0015948 , 0.        , 0.        ])}\n"
     ]
    }
   ],
   "source": [
    "print(gdbt_max_depth_gridcv.best_estimator_)\n",
    "print(gdbt_max_depth_gridcv.best_score_)\n",
    "print(gdbt_max_depth_gridcv.cv_results_)"
   ]
  },
  {
   "cell_type": "code",
   "execution_count": 10,
   "metadata": {},
   "outputs": [
    {
     "name": "stdout",
     "output_type": "stream",
     "text": [
      "0.7876664330763841\n"
     ]
    }
   ],
   "source": [
    "score = gdbt_max_depth_gridcv.score(x_test, y_test)\n",
    "print(score)"
   ]
  },
  {
   "cell_type": "code",
   "execution_count": 11,
   "metadata": {},
   "outputs": [
    {
     "name": "stdout",
     "output_type": "stream",
     "text": [
      "gdbt_max_depth_gridcv 训练结束,耗时:4.287033331394196min\n"
     ]
    }
   ],
   "source": [
    "joblib.dump(gdbt_max_depth_gridcv, 'gdbt_max_depth_gridcv.m')\n",
    "\n",
    "t_end = time.time()\n",
    "print('gdbt_max_depth_gridcv 训练结束,耗时:{}min'.format((t_end - t_start) / 60))"
   ]
  },
  {
   "cell_type": "markdown",
   "metadata": {},
   "source": [
    "## 结论"
   ]
  },
  {
   "cell_type": "markdown",
   "metadata": {},
   "source": [
    "### 当取值为9 ，12时出现过拟合现象。"
   ]
  },
  {
   "cell_type": "markdown",
   "metadata": {},
   "source": [
    "## 4、max_features对数据的影响"
   ]
  },
  {
   "cell_type": "code",
   "execution_count": 17,
   "metadata": {},
   "outputs": [
    {
     "data": {
      "text/plain": [
       "GridSearchCV(cv=10, error_score='raise',\n",
       "       estimator=GradientBoostingClassifier(criterion='friedman_mse', init=None,\n",
       "              learning_rate=0.1, loss='exponential', max_depth=3,\n",
       "              max_features=None, max_leaf_nodes=None,\n",
       "              min_impurity_decrease=0.0, min_impurity_split=None,\n",
       "              min_samples_leaf=1, min_samples_split=2,\n",
       "              min_weight_fraction_leaf=0.0, n_estimators=100,\n",
       "              presort='auto', random_state=2018, subsample=1.0, verbose=0,\n",
       "              warm_start=False),\n",
       "       fit_params=None, iid=True, n_jobs=1,\n",
       "       param_grid={'max_features': [0.2, 0.4, 0.6, 0.8]},\n",
       "       pre_dispatch='2*n_jobs', refit=True, return_train_score='warn',\n",
       "       scoring=None, verbose=0)"
      ]
     },
     "execution_count": 17,
     "metadata": {},
     "output_type": "execute_result"
    }
   ],
   "source": [
    "t_start = time.time()\n",
    "\n",
    "gdbt_max_features_param = {'max_features':[0.2, 0.4, 0.6, 0.8]}\n",
    "\n",
    "gdbt = GradientBoostingClassifier(loss='exponential', n_estimators=100, max_depth=3, random_state=2018)\n",
    "gdbt_max_features_gridcv = GridSearchCV(cv=10, estimator=gdbt, param_grid=gdbt_max_features_param)\n",
    "gdbt_max_features_gridcv.fit(X=x_train, y=y_train)"
   ]
  },
  {
   "cell_type": "code",
   "execution_count": 18,
   "metadata": {},
   "outputs": [
    {
     "name": "stdout",
     "output_type": "stream",
     "text": [
      "GradientBoostingClassifier(criterion='friedman_mse', init=None,\n",
      "              learning_rate=0.1, loss='exponential', max_depth=3,\n",
      "              max_features=0.2, max_leaf_nodes=None,\n",
      "              min_impurity_decrease=0.0, min_impurity_split=None,\n",
      "              min_samples_leaf=1, min_samples_split=2,\n",
      "              min_weight_fraction_leaf=0.0, n_estimators=100,\n",
      "              presort='auto', random_state=2018, subsample=1.0, verbose=0,\n",
      "              warm_start=False)\n",
      "0.7962128043282236\n",
      "{'mean_fit_time': array([1.28197331, 2.01731534, 2.80096016, 3.55750349]), 'std_fit_time': array([0.04400351, 0.01898424, 0.01423323, 0.03134842]), 'mean_score_time': array([0.00350018, 0.00360019, 0.00350032, 0.00360014]), 'std_score_time': array([0.00050006, 0.00048984, 0.00050001, 0.00048995]), 'param_max_features': masked_array(data=[0.2, 0.4, 0.6, 0.8],\n",
      "             mask=[False, False, False, False],\n",
      "       fill_value='?',\n",
      "            dtype=object), 'params': [{'max_features': 0.2}, {'max_features': 0.4}, {'max_features': 0.6}, {'max_features': 0.8}], 'split0_test_score': array([0.80538922, 0.81137725, 0.80838323, 0.80838323]), 'split1_test_score': array([0.78143713, 0.79341317, 0.79041916, 0.79341317]), 'split2_test_score': array([0.81736527, 0.80239521, 0.81437126, 0.7994012 ]), 'split3_test_score': array([0.8018018 , 0.79279279, 0.78078078, 0.79279279]), 'split4_test_score': array([0.78313253, 0.76204819, 0.77409639, 0.77710843]), 'split5_test_score': array([0.77710843, 0.78915663, 0.78313253, 0.80421687]), 'split6_test_score': array([0.78614458, 0.78915663, 0.78012048, 0.78915663]), 'split7_test_score': array([0.78915663, 0.78915663, 0.79518072, 0.79216867]), 'split8_test_score': array([0.8373494 , 0.83433735, 0.83433735, 0.82831325]), 'split9_test_score': array([0.78313253, 0.78012048, 0.78012048, 0.77710843]), 'mean_test_score': array([0.7962128 , 0.79440938, 0.79410881, 0.7962128 ]), 'std_test_score': array([0.01824644, 0.01810785, 0.01826108, 0.01437047]), 'rank_test_score': array([1, 3, 4, 1]), 'split0_train_score': array([0.84363515, 0.8476445 , 0.84931507, 0.84864684]), 'split1_train_score': array([0.84797862, 0.84864684, 0.85399265, 0.84931507]), 'split2_train_score': array([0.84163047, 0.84898096, 0.84998329, 0.85098563]), 'split3_train_score': array([0.84535738, 0.84569138, 0.84869739, 0.84736139]), 'split4_train_score': array([0.84474124, 0.85108514, 0.85041736, 0.85008347]), 'split5_train_score': array([0.84774624, 0.8524207 , 0.85642738, 0.85375626]), 'split6_train_score': array([0.84607679, 0.85041736, 0.85642738, 0.85375626]), 'split7_train_score': array([0.84774624, 0.85075125, 0.85475793, 0.85208681]), 'split8_train_score': array([0.84106845, 0.84641068, 0.84641068, 0.84874791]), 'split9_train_score': array([0.84674457, 0.85008347, 0.85141903, 0.85442404]), 'mean_train_score': array([0.84527252, 0.84921323, 0.85178482, 0.85091637]), 'std_train_score': array([0.00237244, 0.00203612, 0.00326471, 0.00235706])}\n"
     ]
    }
   ],
   "source": [
    "print(gdbt_max_features_gridcv.best_estimator_)\n",
    "print(gdbt_max_features_gridcv.best_score_)\n",
    "print(gdbt_max_features_gridcv.cv_results_)"
   ]
  },
  {
   "cell_type": "code",
   "execution_count": 19,
   "metadata": {},
   "outputs": [
    {
     "name": "stdout",
     "output_type": "stream",
     "text": [
      "0.7869656622284513\n"
     ]
    }
   ],
   "source": [
    "score = gdbt_max_features_gridcv.score(x_test, y_test)\n",
    "print(score)"
   ]
  },
  {
   "cell_type": "code",
   "execution_count": 20,
   "metadata": {},
   "outputs": [
    {
     "name": "stdout",
     "output_type": "stream",
     "text": [
      "gdbt_max_features_gridcv 训练结束,耗时:1.657478137811025min\n"
     ]
    }
   ],
   "source": [
    "joblib.dump(gdbt_max_features_gridcv, 'gdbt_max_features_gridcv.m')\n",
    "\n",
    "t_end = time.time()\n",
    "print('gdbt_max_features_gridcv 训练结束,耗时:{}min'.format((t_end - t_start) / 60))"
   ]
  },
  {
   "cell_type": "markdown",
   "metadata": {},
   "source": [
    "## 结论"
   ]
  },
  {
   "cell_type": "markdown",
   "metadata": {},
   "source": [
    "### 小范围波动，现象不明朗，需扩大取值精度"
   ]
  },
  {
   "cell_type": "markdown",
   "metadata": {},
   "source": [
    "## 5、min_samples_split  根据随机森林缩小范围"
   ]
  },
  {
   "cell_type": "code",
   "execution_count": 21,
   "metadata": {},
   "outputs": [
    {
     "data": {
      "text/plain": [
       "GridSearchCV(cv=10, error_score='raise',\n",
       "       estimator=GradientBoostingClassifier(criterion='friedman_mse', init=None,\n",
       "              learning_rate=0.1, loss='exponential', max_depth=3,\n",
       "              max_features=0.2, max_leaf_nodes=None,\n",
       "              min_impurity_decrease=0.0, min_impurity_split=None,\n",
       "              min_samples_leaf=1, min_samples_split=2,\n",
       "              min_weight_fraction_leaf=0.0, n_estimators=100,\n",
       "              presort='auto', random_state=2018, subsample=1.0, verbose=0,\n",
       "              warm_start=False),\n",
       "       fit_params=None, iid=True, n_jobs=1,\n",
       "       param_grid={'min_samples_split': range(2, 8, 2)},\n",
       "       pre_dispatch='2*n_jobs', refit=True, return_train_score='warn',\n",
       "       scoring=None, verbose=0)"
      ]
     },
     "execution_count": 21,
     "metadata": {},
     "output_type": "execute_result"
    }
   ],
   "source": [
    "t_start = time.time()\n",
    "\n",
    "gdbt_min_samples_split_param = {'min_samples_split':range(2,8,2)}\n",
    "\n",
    "gdbt = GradientBoostingClassifier(loss='exponential', n_estimators=100, max_depth=3, max_features=0.2, random_state=2018)\n",
    "gdbt_min_samples_split_gridcv = GridSearchCV(cv=10, estimator=gdbt, param_grid=gdbt_min_samples_split_param)\n",
    "gdbt_min_samples_split_gridcv.fit(X=x_train, y=y_train)"
   ]
  },
  {
   "cell_type": "code",
   "execution_count": 22,
   "metadata": {},
   "outputs": [
    {
     "name": "stdout",
     "output_type": "stream",
     "text": [
      "GradientBoostingClassifier(criterion='friedman_mse', init=None,\n",
      "              learning_rate=0.1, loss='exponential', max_depth=3,\n",
      "              max_features=0.2, max_leaf_nodes=None,\n",
      "              min_impurity_decrease=0.0, min_impurity_split=None,\n",
      "              min_samples_leaf=1, min_samples_split=4,\n",
      "              min_weight_fraction_leaf=0.0, n_estimators=100,\n",
      "              presort='auto', random_state=2018, subsample=1.0, verbose=0,\n",
      "              warm_start=False)\n",
      "0.7974150886684701\n",
      "{'mean_fit_time': array([1.27957318, 1.24467115, 1.24397116]), 'std_fit_time': array([0.04019492, 0.00857023, 0.0133907 ]), 'mean_score_time': array([0.00350025, 0.00350015, 0.00350015]), 'std_score_time': array([0.00050008, 0.00049999, 0.00050004]), 'param_min_samples_split': masked_array(data=[2, 4, 6],\n",
      "             mask=[False, False, False],\n",
      "       fill_value='?',\n",
      "            dtype=object), 'params': [{'min_samples_split': 2}, {'min_samples_split': 4}, {'min_samples_split': 6}], 'split0_test_score': array([0.80538922, 0.80538922, 0.80538922]), 'split1_test_score': array([0.78143713, 0.78443114, 0.78143713]), 'split2_test_score': array([0.81736527, 0.81736527, 0.80239521]), 'split3_test_score': array([0.8018018 , 0.80780781, 0.80780781]), 'split4_test_score': array([0.78313253, 0.78313253, 0.77710843]), 'split5_test_score': array([0.77710843, 0.79216867, 0.78915663]), 'split6_test_score': array([0.78614458, 0.78313253, 0.78313253]), 'split7_test_score': array([0.78915663, 0.79819277, 0.78614458]), 'split8_test_score': array([0.8373494, 0.8313253, 0.8313253]), 'split9_test_score': array([0.78313253, 0.77108434, 0.77409639]), 'mean_test_score': array([0.7962128 , 0.79741509, 0.79380824]), 'std_test_score': array([0.01824644, 0.01736455, 0.01680182]), 'rank_test_score': array([2, 1, 3]), 'split0_train_score': array([0.84363515, 0.84430337, 0.84864684]), 'split1_train_score': array([0.84797862, 0.84630805, 0.84731039]), 'split2_train_score': array([0.84163047, 0.84363515, 0.84029402]), 'split3_train_score': array([0.84535738, 0.84368737, 0.84301937]), 'split4_train_score': array([0.84474124, 0.84641068, 0.84741235]), 'split5_train_score': array([0.84774624, 0.84941569, 0.84941569]), 'split6_train_score': array([0.84607679, 0.84741235, 0.84741235]), 'split7_train_score': array([0.84774624, 0.84841402, 0.84607679]), 'split8_train_score': array([0.84106845, 0.84173623, 0.84106845]), 'split9_train_score': array([0.84674457, 0.84707846, 0.84741235]), 'mean_train_score': array([0.84527252, 0.84584014, 0.84580686]), 'std_train_score': array([0.00237244, 0.00229476, 0.00302935])}\n"
     ]
    }
   ],
   "source": [
    "print(gdbt_min_samples_split_gridcv.best_estimator_)\n",
    "print(gdbt_min_samples_split_gridcv.best_score_)\n",
    "print(gdbt_min_samples_split_gridcv.cv_results_)"
   ]
  },
  {
   "cell_type": "code",
   "execution_count": 23,
   "metadata": {},
   "outputs": [
    {
     "name": "stdout",
     "output_type": "stream",
     "text": [
      "0.7869656622284513\n"
     ]
    }
   ],
   "source": [
    "score = gdbt_min_samples_split_gridcv.score(x_test, y_test)\n",
    "print(score)"
   ]
  },
  {
   "cell_type": "code",
   "execution_count": 24,
   "metadata": {},
   "outputs": [
    {
     "name": "stdout",
     "output_type": "stream",
     "text": [
      "gdbt_min_samples_split_gridcv 训练结束,耗时:0.6690549333890279min\n"
     ]
    }
   ],
   "source": [
    "joblib.dump(gdbt_min_samples_split_gridcv, 'gdbt_min_samples_split_gridcv.m')\n",
    "\n",
    "t_end = time.time()\n",
    "print('gdbt_min_samples_split_gridcv 训练结束,耗时:{}min'.format((t_end - t_start) / 60))"
   ]
  },
  {
   "cell_type": "markdown",
   "metadata": {},
   "source": [
    "## 结论"
   ]
  },
  {
   "cell_type": "markdown",
   "metadata": {},
   "source": [
    "#### 取值为4时是最大值，但因为预测结果比训练结果小可能是过拟合，可再缩小范围测试"
   ]
  },
  {
   "cell_type": "markdown",
   "metadata": {},
   "source": [
    "## 6、min_samples_leaf 根据随机森林缩小范围"
   ]
  },
  {
   "cell_type": "code",
   "execution_count": 25,
   "metadata": {},
   "outputs": [
    {
     "data": {
      "text/plain": [
       "GridSearchCV(cv=10, error_score='raise',\n",
       "       estimator=GradientBoostingClassifier(criterion='friedman_mse', init=None,\n",
       "              learning_rate=0.1, loss='exponential', max_depth=3,\n",
       "              max_features=0.2, max_leaf_nodes=None,\n",
       "              min_impurity_decrease=0.0, min_impurity_split=None,\n",
       "              min_samples_leaf=1, min_samples_split=4,\n",
       "              min_weight_fraction_leaf=0.0, n_estimators=100,\n",
       "              presort='auto', random_state=2018, subsample=1.0, verbose=0,\n",
       "              warm_start=False),\n",
       "       fit_params=None, iid=True, n_jobs=1,\n",
       "       param_grid={'min_samples_leaf': range(2, 6, 2)},\n",
       "       pre_dispatch='2*n_jobs', refit=True, return_train_score='warn',\n",
       "       scoring=None, verbose=0)"
      ]
     },
     "execution_count": 25,
     "metadata": {},
     "output_type": "execute_result"
    }
   ],
   "source": [
    "t_start = time.time()\n",
    "\n",
    "gdbt_min_samples_leaf_param = {'min_samples_leaf':range(2,6,2)}\n",
    "\n",
    "gdbt = GradientBoostingClassifier(loss='exponential', n_estimators=100, max_depth=3, \n",
    "                                  max_features=0.2, min_samples_split=4, random_state=2018)\n",
    "\n",
    "gdbt_min_samples_leaf_gridcv = GridSearchCV(cv=10, estimator=gdbt, param_grid=gdbt_min_samples_leaf_param)\n",
    "gdbt_min_samples_leaf_gridcv.fit(X=x_train, y=y_train)"
   ]
  },
  {
   "cell_type": "code",
   "execution_count": 26,
   "metadata": {},
   "outputs": [
    {
     "name": "stdout",
     "output_type": "stream",
     "text": [
      "GradientBoostingClassifier(criterion='friedman_mse', init=None,\n",
      "              learning_rate=0.1, loss='exponential', max_depth=3,\n",
      "              max_features=0.2, max_leaf_nodes=None,\n",
      "              min_impurity_decrease=0.0, min_impurity_split=None,\n",
      "              min_samples_leaf=4, min_samples_split=4,\n",
      "              min_weight_fraction_leaf=0.0, n_estimators=100,\n",
      "              presort='auto', random_state=2018, subsample=1.0, verbose=0,\n",
      "              warm_start=False)\n",
      "0.7989179440937781\n",
      "{'mean_fit_time': array([1.28267329, 1.24267108]), 'std_fit_time': array([0.05104056, 0.01323107]), 'mean_score_time': array([0.00360024, 0.00360022]), 'std_score_time': array([0.00048993, 0.00048996]), 'param_min_samples_leaf': masked_array(data=[2, 4],\n",
      "             mask=[False, False],\n",
      "       fill_value='?',\n",
      "            dtype=object), 'params': [{'min_samples_leaf': 2}, {'min_samples_leaf': 4}], 'split0_test_score': array([0.80838323, 0.80838323]), 'split1_test_score': array([0.78443114, 0.7754491 ]), 'split2_test_score': array([0.81736527, 0.82335329]), 'split3_test_score': array([0.7957958, 0.8018018]), 'split4_test_score': array([0.78915663, 0.79819277]), 'split5_test_score': array([0.77409639, 0.79216867]), 'split6_test_score': array([0.78012048, 0.79216867]), 'split7_test_score': array([0.79518072, 0.79216867]), 'split8_test_score': array([0.82228916, 0.8313253 ]), 'split9_test_score': array([0.78012048, 0.77409639]), 'mean_test_score': array([0.79470995, 0.79891794]), 'std_test_score': array([0.01564943, 0.01746528]), 'rank_test_score': array([2, 1]), 'split0_train_score': array([0.84731039, 0.84530571]), 'split1_train_score': array([0.85031741, 0.84831273]), 'split2_train_score': array([0.84563983, 0.84664217]), 'split3_train_score': array([0.84468938, 0.84435538]), 'split4_train_score': array([0.84440735, 0.84707846]), 'split5_train_score': array([0.85275459, 0.8557596 ]), 'split6_train_score': array([0.84474124, 0.85141903]), 'split7_train_score': array([0.84540902, 0.85141903]), 'split8_train_score': array([0.84240401, 0.84173623]), 'split9_train_score': array([0.85008347, 0.84674457]), 'mean_train_score': array([0.84677567, 0.84787729]), 'std_train_score': array([0.00309659, 0.00384167])}\n"
     ]
    }
   ],
   "source": [
    "print(gdbt_min_samples_leaf_gridcv.best_estimator_)\n",
    "print(gdbt_min_samples_leaf_gridcv.best_score_)\n",
    "print(gdbt_min_samples_leaf_gridcv.cv_results_)"
   ]
  },
  {
   "cell_type": "code",
   "execution_count": 27,
   "metadata": {},
   "outputs": [
    {
     "name": "stdout",
     "output_type": "stream",
     "text": [
      "0.7883672039243167\n"
     ]
    }
   ],
   "source": [
    "score = gdbt_min_samples_leaf_gridcv.score(x_test, y_test)\n",
    "print(score)"
   ]
  },
  {
   "cell_type": "code",
   "execution_count": 28,
   "metadata": {},
   "outputs": [
    {
     "name": "stdout",
     "output_type": "stream",
     "text": [
      "gdbt_min_samples_leaf_gridcv 训练结束,耗时:0.45765950679779055min\n"
     ]
    }
   ],
   "source": [
    "joblib.dump(gdbt_min_samples_leaf_gridcv, 'gdbt_min_samples_leaf_gridcv.m')\n",
    "\n",
    "t_end = time.time()\n",
    "print('gdbt_min_samples_leaf_gridcv 训练结束,耗时:{}min'.format((t_end - t_start) / 60))"
   ]
  },
  {
   "cell_type": "markdown",
   "metadata": {},
   "source": [
    "## 结论"
   ]
  },
  {
   "cell_type": "markdown",
   "metadata": {},
   "source": [
    "### 取值范围过小，分析不出实际数据。"
   ]
  },
  {
   "cell_type": "markdown",
   "metadata": {},
   "source": [
    "## 7、max_leaf_nodes"
   ]
  },
  {
   "cell_type": "code",
   "execution_count": 29,
   "metadata": {},
   "outputs": [
    {
     "data": {
      "text/plain": [
       "GridSearchCV(cv=10, error_score='raise',\n",
       "       estimator=GradientBoostingClassifier(criterion='friedman_mse', init=None,\n",
       "              learning_rate=0.1, loss='exponential', max_depth=3,\n",
       "              max_features=0.2, max_leaf_nodes=None,\n",
       "              min_impurity_decrease=0.0, min_impurity_split=None,\n",
       "              min_samples_leaf=4, min_samples_split=4,\n",
       "              min_weight_fraction_leaf=0.0, n_estimators=100,\n",
       "              presort='auto', random_state=2018, subsample=1.0, verbose=0,\n",
       "              warm_start=False),\n",
       "       fit_params=None, iid=True, n_jobs=1,\n",
       "       param_grid={'max_features': range(10, 50, 10)},\n",
       "       pre_dispatch='2*n_jobs', refit=True, return_train_score='warn',\n",
       "       scoring=None, verbose=0)"
      ]
     },
     "execution_count": 29,
     "metadata": {},
     "output_type": "execute_result"
    }
   ],
   "source": [
    "t_start = time.time()\n",
    "\n",
    "gdbtmax_leaf_nodes_param = {'max_features':range(10,50,10)}\n",
    "\n",
    "gdbt = GradientBoostingClassifier(loss='exponential', n_estimators=100, max_depth=3,  max_features=0.2, \n",
    "                                  min_samples_split=4, min_samples_leaf=4, random_state=2018)\n",
    "\n",
    "gdbt_max_leaf_nodes_gridcv = GridSearchCV(cv=10, estimator=gdbt, param_grid=gdbtmax_leaf_nodes_param)\n",
    "gdbt_max_leaf_nodes_gridcv.fit(X=x_train, y=y_train)"
   ]
  },
  {
   "cell_type": "code",
   "execution_count": 30,
   "metadata": {},
   "outputs": [
    {
     "name": "stdout",
     "output_type": "stream",
     "text": [
      "GradientBoostingClassifier(criterion='friedman_mse', init=None,\n",
      "              learning_rate=0.1, loss='exponential', max_depth=3,\n",
      "              max_features=20, max_leaf_nodes=None,\n",
      "              min_impurity_decrease=0.0, min_impurity_split=None,\n",
      "              min_samples_leaf=4, min_samples_split=4,\n",
      "              min_weight_fraction_leaf=0.0, n_estimators=100,\n",
      "              presort='auto', random_state=2018, subsample=1.0, verbose=0,\n",
      "              warm_start=False)\n",
      "0.7995190862639014\n",
      "{'mean_fit_time': array([1.05946062, 1.4515831 , 1.90790911, 2.35713482]), 'std_fit_time': array([0.06904769, 0.03117306, 0.01247307, 0.02490931]), 'mean_score_time': array([0.00380018, 0.00380013, 0.00400021, 0.0035002 ]), 'std_score_time': array([4.00018710e-04, 6.00051901e-04, 1.28392334e-07, 5.00035320e-04]), 'param_max_features': masked_array(data=[10, 20, 30, 40],\n",
      "             mask=[False, False, False, False],\n",
      "       fill_value='?',\n",
      "            dtype=object), 'params': [{'max_features': 10}, {'max_features': 20}, {'max_features': 30}, {'max_features': 40}], 'split0_test_score': array([0.79640719, 0.81137725, 0.80838323, 0.80838323]), 'split1_test_score': array([0.78742515, 0.78443114, 0.78143713, 0.79041916]), 'split2_test_score': array([0.81437126, 0.82035928, 0.82035928, 0.80838323]), 'split3_test_score': array([0.7987988 , 0.7987988 , 0.7987988 , 0.78978979]), 'split4_test_score': array([0.76204819, 0.78915663, 0.77108434, 0.78313253]), 'split5_test_score': array([0.78012048, 0.79819277, 0.79819277, 0.80120482]), 'split6_test_score': array([0.79819277, 0.78614458, 0.77710843, 0.78614458]), 'split7_test_score': array([0.79518072, 0.81024096, 0.78313253, 0.78614458]), 'split8_test_score': array([0.83433735, 0.82831325, 0.82228916, 0.84036145]), 'split9_test_score': array([0.76506024, 0.76807229, 0.77710843, 0.77108434]), 'mean_test_score': array([0.79320709, 0.79951909, 0.79380824, 0.79651338]), 'std_test_score': array([0.02042536, 0.01738545, 0.01764595, 0.018288  ]), 'rank_test_score': array([4, 1, 3, 2]), 'split0_train_score': array([0.84330104, 0.85031741, 0.84864684, 0.84697628]), 'split1_train_score': array([0.84597394, 0.85098563, 0.85399265, 0.8526562 ]), 'split2_train_score': array([0.84597394, 0.8476445 , 0.84831273, 0.8526562 ]), 'split3_train_score': array([0.83700735, 0.84802939, 0.84669339, 0.8493654 ]), 'split4_train_score': array([0.84808013, 0.85108514, 0.85075125, 0.85008347]), 'split5_train_score': array([0.84974958, 0.84874791, 0.8524207 , 0.85275459]), 'split6_train_score': array([0.84707846, 0.84874791, 0.85041736, 0.85342237]), 'split7_train_score': array([0.84173623, 0.8524207 , 0.85175292, 0.85509182]), 'split8_train_score': array([0.84207012, 0.84741235, 0.84808013, 0.85642738]), 'split9_train_score': array([0.84540902, 0.84874791, 0.85275459, 0.84874791]), 'mean_train_score': array([0.84463798, 0.84941389, 0.85038226, 0.85181816]), 'std_train_score': array([0.00350892, 0.00159703, 0.00225912, 0.00280557])}\n"
     ]
    }
   ],
   "source": [
    "print(gdbt_max_leaf_nodes_gridcv.best_estimator_)\n",
    "print(gdbt_max_leaf_nodes_gridcv.best_score_)\n",
    "print(gdbt_max_leaf_nodes_gridcv.cv_results_)"
   ]
  },
  {
   "cell_type": "code",
   "execution_count": 31,
   "metadata": {},
   "outputs": [
    {
     "name": "stdout",
     "output_type": "stream",
     "text": [
      "0.7939733707077785\n"
     ]
    }
   ],
   "source": [
    "score = gdbt_max_leaf_nodes_gridcv.score(x_test, y_test)\n",
    "print(score)"
   ]
  },
  {
   "cell_type": "code",
   "execution_count": 32,
   "metadata": {},
   "outputs": [
    {
     "name": "stdout",
     "output_type": "stream",
     "text": [
      "gdbt_max_leaf_nodes_gridcv 训练结束,耗时:1.1800341566403707min\n"
     ]
    }
   ],
   "source": [
    "joblib.dump(gdbt_max_leaf_nodes_gridcv, 'gdbt_max_leaf_nodes_gridcv.m')\n",
    "\n",
    "t_end = time.time()\n",
    "print('gdbt_max_leaf_nodes_gridcv 训练结束,耗时:{}min'.format((t_end - t_start) / 60))"
   ]
  },
  {
   "cell_type": "markdown",
   "metadata": {},
   "source": [
    "## 结论"
   ]
  },
  {
   "cell_type": "markdown",
   "metadata": {},
   "source": [
    "### 在20取值比较稳定，但可能是小范围波动，需扩大取值精度验证。"
   ]
  }
 ],
 "metadata": {
  "kernelspec": {
   "display_name": "Python 3",
   "language": "python",
   "name": "python3"
  },
  "language_info": {
   "codemirror_mode": {
    "name": "ipython",
    "version": 3
   },
   "file_extension": ".py",
   "mimetype": "text/x-python",
   "name": "python",
   "nbconvert_exporter": "python",
   "pygments_lexer": "ipython3",
   "version": "3.6.5"
  }
 },
 "nbformat": 4,
 "nbformat_minor": 2
}
