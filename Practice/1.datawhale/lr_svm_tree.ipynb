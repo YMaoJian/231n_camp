{
 "cells": [
  {
   "cell_type": "code",
   "execution_count": 1,
   "metadata": {},
   "outputs": [],
   "source": [
    "from sklearn.model_selection import train_test_split\n",
    "from sklearn.metrics import roc_auc_score\n",
    "from sklearn.externals import joblib\n",
    "import pandas as pd\n",
    "import time"
   ]
  },
  {
   "cell_type": "code",
   "execution_count": 2,
   "metadata": {},
   "outputs": [
    {
     "name": "stdout",
     "output_type": "stream",
     "text": [
      "(3327, 84) (3327, 1) (1427, 84) (1427, 1)\n"
     ]
    }
   ],
   "source": [
    "data = pd.read_csv('data_all.csv')\n",
    "y_data = pd.DataFrame(data['status'])\n",
    "x_data = data.drop(columns='status')\n",
    "\n",
    "x_train, x_test, y_train, y_test = train_test_split(x_data, y_data, test_size=0.3, random_state=2018)\n",
    "print(x_train.shape, y_train.shape, x_test.shape, y_test.shape)"
   ]
  },
  {
   "cell_type": "markdown",
   "metadata": {},
   "source": [
    "# LR"
   ]
  },
  {
   "cell_type": "code",
   "execution_count": 4,
   "metadata": {
    "scrolled": true
   },
   "outputs": [
    {
     "name": "stderr",
     "output_type": "stream",
     "text": [
      "D:\\ProgramData\\Anaconda3\\lib\\site-packages\\sklearn\\utils\\validation.py:578: DataConversionWarning: A column-vector y was passed when a 1d array was expected. Please change the shape of y to (n_samples, ), for example using ravel().\n",
      "  y = column_or_1d(y, warn=True)\n"
     ]
    },
    {
     "name": "stdout",
     "output_type": "stream",
     "text": [
      "0.6869190322681606\n",
      "LR训练结束,耗时:0.21497896512349446min\n"
     ]
    }
   ],
   "source": [
    "from sklearn.linear_model import  LogisticRegression\n",
    "\n",
    "t_start = time.time()\n",
    "\n",
    "lr = LogisticRegression(penalty='l1', class_weight='balanced', max_iter=100, random_state=2018)\n",
    "lr.fit(X=x_train, y=y_train)\n",
    "y_valid = lr.predict(x_test)\n",
    "roc_score = roc_auc_score(y_test, y_valid)\n",
    "print(roc_score)\n",
    "joblib.dump(lr, 'lr_model.m')\n",
    "\n",
    "t_end = time.time()\n",
    "print('LR训练结束,耗时:{}min'.format((t_end - t_start) / 60))"
   ]
  },
  {
   "cell_type": "markdown",
   "metadata": {},
   "source": [
    "# SVM"
   ]
  },
  {
   "cell_type": "code",
   "execution_count": 6,
   "metadata": {},
   "outputs": [
    {
     "name": "stderr",
     "output_type": "stream",
     "text": [
      "D:\\ProgramData\\Anaconda3\\lib\\site-packages\\sklearn\\utils\\validation.py:578: DataConversionWarning: A column-vector y was passed when a 1d array was expected. Please change the shape of y to (n_samples, ), for example using ravel().\n",
      "  y = column_or_1d(y, warn=True)\n"
     ]
    },
    {
     "name": "stdout",
     "output_type": "stream",
     "text": [
      "0.5\n",
      "SVM训练结束,耗时:0.14625837008158366min\n"
     ]
    }
   ],
   "source": [
    "from sklearn.svm import SVC\n",
    "\n",
    "t_start = time.time()\n",
    "\n",
    "svc = SVC(class_weight='balanced', random_state=2018)\n",
    "svc.fit(X=x_train, y=y_train)\n",
    "\n",
    "y_valid = svc.predict(x_test)\n",
    "roc_score = roc_auc_score(y_test, y_valid)\n",
    "print(roc_score)\n",
    "joblib.dump(svc, 'svc_model.m')\n",
    "\n",
    "t_end = time.time()\n",
    "print('SVM训练结束,耗时:{}min'.format((t_end - t_start) / 60))"
   ]
  },
  {
   "cell_type": "markdown",
   "metadata": {},
   "source": [
    "# Tree"
   ]
  },
  {
   "cell_type": "code",
   "execution_count": 7,
   "metadata": {},
   "outputs": [
    {
     "name": "stdout",
     "output_type": "stream",
     "text": [
      "0.656734791816636\n",
      "Tree训练结束,耗时:0.0012334068616231284min\n"
     ]
    }
   ],
   "source": [
    "from sklearn.tree import DecisionTreeClassifier\n",
    "\n",
    "t_start = time.time()\n",
    "\n",
    "dtree = DecisionTreeClassifier(max_depth=30, min_samples_split=3, max_features='log2', random_state=2018, \\\n",
    "                               max_leaf_nodes=8, class_weight='balanced')\n",
    "dtree.fit(X=x_train, y=y_train)\n",
    "y_valid = dtree.predict(X=x_test)\n",
    "roc_score = roc_auc_score(y_test, y_valid)\n",
    "print(roc_score)\n",
    "joblib.dump(dtree, 'dtree_model.m')\n",
    "t_end = time.time()\n",
    "print('Tree训练结束,耗时:{}min'.format((t_end - t_start) / 60))"
   ]
  },
  {
   "cell_type": "code",
   "execution_count": null,
   "metadata": {},
   "outputs": [],
   "source": []
  },
  {
   "cell_type": "code",
   "execution_count": null,
   "metadata": {},
   "outputs": [],
   "source": []
  },
  {
   "cell_type": "code",
   "execution_count": null,
   "metadata": {},
   "outputs": [],
   "source": []
  },
  {
   "cell_type": "code",
   "execution_count": null,
   "metadata": {},
   "outputs": [],
   "source": []
  },
  {
   "cell_type": "code",
   "execution_count": null,
   "metadata": {},
   "outputs": [],
   "source": []
  },
  {
   "cell_type": "code",
   "execution_count": null,
   "metadata": {},
   "outputs": [],
   "source": []
  }
 ],
 "metadata": {
  "kernelspec": {
   "display_name": "Python 3",
   "language": "python",
   "name": "python3"
  },
  "language_info": {
   "codemirror_mode": {
    "name": "ipython",
    "version": 3
   },
   "file_extension": ".py",
   "mimetype": "text/x-python",
   "name": "python",
   "nbconvert_exporter": "python",
   "pygments_lexer": "ipython3",
   "version": "3.6.5"
  }
 },
 "nbformat": 4,
 "nbformat_minor": 2
}
