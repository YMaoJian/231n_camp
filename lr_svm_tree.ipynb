{
 "cells": [
  {
   "cell_type": "code",
   "execution_count": 1,
   "metadata": {},
   "outputs": [],
   "source": [
    "from sklearn.model_selection import train_test_split\n",
    "from sklearn.metrics import roc_auc_score\n",
    "from sklearn.externals import joblib\n",
    "import pandas as pd\n",
    "import time\n",
    "import logging"
   ]
  },
  {
   "cell_type": "code",
   "execution_count": 2,
   "metadata": {},
   "outputs": [
    {
     "name": "stdout",
     "output_type": "stream",
     "text": [
      "(4754, 85)\n",
      "(3327, 84) (3327,) (1427, 84) (1427,)\n"
     ]
    }
   ],
   "source": [
    "data = pd.read_csv('data_all.csv')\n",
    "y_data = pd.DataFrame(data['status'])\n",
    "x_data = data.drop(columns='status')\n",
    "y_data = y_data.values  #转化成矩阵\n",
    "x_data = x_data.values\n",
    "y_data = y_data.ravel() #转成1维数组\n",
    "\n",
    "x_train, x_test, y_train, y_test = train_test_split(x_data, y_data, test_size=0.3, random_state=2018)\n",
    "print(data.shape)\n",
    "print(x_train.shape, y_train.shape, x_test.shape, y_test.shape)"
   ]
  },
  {
   "cell_type": "markdown",
   "metadata": {},
   "source": [
    "# LR"
   ]
  },
  {
   "cell_type": "code",
   "execution_count": 40,
   "metadata": {
    "scrolled": true
   },
   "outputs": [
    {
     "name": "stdout",
     "output_type": "stream",
     "text": [
      "0.23474747790888129\n",
      "LR训练结束,耗时:0.2152789831161499min\n"
     ]
    }
   ],
   "source": [
    "from sklearn.linear_model import  LogisticRegression\n",
    "\n",
    "t_start = time.time()\n",
    "\n",
    "lr = LogisticRegression(penalty='l1', class_weight='balanced', max_iter=100, random_state=2018)\n",
    "lr.fit(X=x_train, y=y_train)\n",
    "y_valid = lr.predict_proba(x_test)\n",
    "y_valid = pd.DataFrame(y_valid)\n",
    "y_valid = y_valid[0]\n",
    "roc_score = roc_auc_score(y_test, y_valid)\n",
    "print(roc_score)\n",
    "joblib.dump(lr, 'lr_model.m')\n",
    "\n",
    "t_end = time.time()\n",
    "print('LR训练结束,耗时:{}min'.format((t_end - t_start) / 60))"
   ]
  },
  {
   "cell_type": "markdown",
   "metadata": {},
   "source": [
    "# SVM"
   ]
  },
  {
   "cell_type": "code",
   "execution_count": 4,
   "metadata": {},
   "outputs": [
    {
     "name": "stdout",
     "output_type": "stream",
     "text": [
      "0.5\n",
      "SVM训练结束,耗时:0.6427367647488912min\n"
     ]
    }
   ],
   "source": [
    "from sklearn.svm import SVC\n",
    "\n",
    "t_start = time.time()\n",
    "\n",
    "svc = SVC(class_weight='balanced', probability=True, random_state=2018)\n",
    "svc.fit(X=x_train, y=y_train)\n",
    "\n",
    "y_valid = svc.predict_proba(x_test)\n",
    "y_valid = pd.DataFrame(y_valid)\n",
    "y_valid = y_valid[0]\n",
    "\n",
    "roc_score = roc_auc_score(y_test, y_valid)\n",
    "print(roc_score)\n",
    "joblib.dump(svc, 'svc_model.m')\n",
    "\n",
    "t_end = time.time()\n",
    "print('SVM训练结束,耗时:{}min'.format((t_end - t_start) / 60))"
   ]
  },
  {
   "cell_type": "markdown",
   "metadata": {},
   "source": [
    "# Tree"
   ]
  },
  {
   "cell_type": "code",
   "execution_count": 6,
   "metadata": {},
   "outputs": [
    {
     "name": "stdout",
     "output_type": "stream",
     "text": [
      "0.30753341053488154\n",
      "Tree训练结束,耗时:0.0006667017936706543min\n"
     ]
    }
   ],
   "source": [
    "from sklearn.tree import DecisionTreeClassifier\n",
    "\n",
    "t_start = time.time()\n",
    "\n",
    "dtree = DecisionTreeClassifier(max_depth=30, min_samples_split=3, max_features='log2', random_state=2018, \\\n",
    "                               max_leaf_nodes=8, class_weight='balanced')\n",
    "dtree.fit(X=x_train, y=y_train)\n",
    "\n",
    "y_valid = dtree.predict_proba(X=x_test)\n",
    "y_valid = pd.DataFrame(y_valid)\n",
    "y_valid = y_valid[0]\n",
    "\n",
    "roc_score = roc_auc_score(y_test, y_valid)\n",
    "print(roc_score)\n",
    "joblib.dump(dtree, 'dtree_model.m')\n",
    "t_end = time.time()\n",
    "print('Tree训练结束,耗时:{}min'.format((t_end - t_start) / 60))"
   ]
  },
  {
   "cell_type": "code",
   "execution_count": null,
   "metadata": {},
   "outputs": [],
   "source": []
  }
 ],
 "metadata": {
  "kernelspec": {
   "display_name": "Python 3",
   "language": "python",
   "name": "python3"
  },
  "language_info": {
   "codemirror_mode": {
    "name": "ipython",
    "version": 3
   },
   "file_extension": ".py",
   "mimetype": "text/x-python",
   "name": "python",
   "nbconvert_exporter": "python",
   "pygments_lexer": "ipython3",
   "version": "3.6.5"
  }
 },
 "nbformat": 4,
 "nbformat_minor": 2
}
